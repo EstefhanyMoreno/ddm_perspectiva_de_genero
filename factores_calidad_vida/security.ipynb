{
 "cells": [
  {
   "cell_type": "code",
   "execution_count": 1,
   "metadata": {},
   "outputs": [],
   "source": [
    "import pandas as pd\n",
    "import requests\n",
    "import plotly.express as px\n",
    "import plotly.graph_objects as go"
   ]
  },
  {
   "cell_type": "code",
   "execution_count": 4,
   "metadata": {
    "scrolled": true
   },
   "outputs": [
    {
     "data": {
      "text/html": [
       "<div>\n",
       "<style scoped>\n",
       "    .dataframe tbody tr th:only-of-type {\n",
       "        vertical-align: middle;\n",
       "    }\n",
       "\n",
       "    .dataframe tbody tr th {\n",
       "        vertical-align: top;\n",
       "    }\n",
       "\n",
       "    .dataframe thead th {\n",
       "        text-align: right;\n",
       "    }\n",
       "</style>\n",
       "<table border=\"1\" class=\"dataframe\">\n",
       "  <thead>\n",
       "    <tr style=\"text-align: right;\">\n",
       "      <th></th>\n",
       "      <th>City Perception at Home ID</th>\n",
       "      <th>City Perception at Home</th>\n",
       "      <th>City Perception at Work ID</th>\n",
       "      <th>City Perception at Work</th>\n",
       "      <th>City Perception Streets ID</th>\n",
       "      <th>City Perception Streets</th>\n",
       "      <th>City Perception at Public Transport ID</th>\n",
       "      <th>City Perception at Public Transport</th>\n",
       "      <th>Age Range ID</th>\n",
       "      <th>Age Range</th>\n",
       "      <th>Sex ID</th>\n",
       "      <th>Sex</th>\n",
       "      <th>Population</th>\n",
       "    </tr>\n",
       "  </thead>\n",
       "  <tbody>\n",
       "    <tr>\n",
       "      <td>0</td>\n",
       "      <td>1</td>\n",
       "      <td>Segura</td>\n",
       "      <td>1</td>\n",
       "      <td>Segura</td>\n",
       "      <td>1</td>\n",
       "      <td>Segura</td>\n",
       "      <td>1</td>\n",
       "      <td>Segura</td>\n",
       "      <td>4</td>\n",
       "      <td>15 to 19 years</td>\n",
       "      <td>1</td>\n",
       "      <td>Hombre</td>\n",
       "      <td>2009752</td>\n",
       "    </tr>\n",
       "    <tr>\n",
       "      <td>1</td>\n",
       "      <td>1</td>\n",
       "      <td>Segura</td>\n",
       "      <td>1</td>\n",
       "      <td>Segura</td>\n",
       "      <td>1</td>\n",
       "      <td>Segura</td>\n",
       "      <td>1</td>\n",
       "      <td>Segura</td>\n",
       "      <td>4</td>\n",
       "      <td>15 to 19 years</td>\n",
       "      <td>2</td>\n",
       "      <td>Mujer</td>\n",
       "      <td>596551</td>\n",
       "    </tr>\n",
       "    <tr>\n",
       "      <td>2</td>\n",
       "      <td>1</td>\n",
       "      <td>Segura</td>\n",
       "      <td>1</td>\n",
       "      <td>Segura</td>\n",
       "      <td>1</td>\n",
       "      <td>Segura</td>\n",
       "      <td>1</td>\n",
       "      <td>Segura</td>\n",
       "      <td>5</td>\n",
       "      <td>20 to 24 years</td>\n",
       "      <td>1</td>\n",
       "      <td>Hombre</td>\n",
       "      <td>5023784</td>\n",
       "    </tr>\n",
       "    <tr>\n",
       "      <td>3</td>\n",
       "      <td>1</td>\n",
       "      <td>Segura</td>\n",
       "      <td>1</td>\n",
       "      <td>Segura</td>\n",
       "      <td>1</td>\n",
       "      <td>Segura</td>\n",
       "      <td>1</td>\n",
       "      <td>Segura</td>\n",
       "      <td>5</td>\n",
       "      <td>20 to 24 years</td>\n",
       "      <td>2</td>\n",
       "      <td>Mujer</td>\n",
       "      <td>1651457</td>\n",
       "    </tr>\n",
       "    <tr>\n",
       "      <td>4</td>\n",
       "      <td>1</td>\n",
       "      <td>Segura</td>\n",
       "      <td>1</td>\n",
       "      <td>Segura</td>\n",
       "      <td>1</td>\n",
       "      <td>Segura</td>\n",
       "      <td>1</td>\n",
       "      <td>Segura</td>\n",
       "      <td>6</td>\n",
       "      <td>25 to 29 years</td>\n",
       "      <td>1</td>\n",
       "      <td>Hombre</td>\n",
       "      <td>4186276</td>\n",
       "    </tr>\n",
       "    <tr>\n",
       "      <td>...</td>\n",
       "      <td>...</td>\n",
       "      <td>...</td>\n",
       "      <td>...</td>\n",
       "      <td>...</td>\n",
       "      <td>...</td>\n",
       "      <td>...</td>\n",
       "      <td>...</td>\n",
       "      <td>...</td>\n",
       "      <td>...</td>\n",
       "      <td>...</td>\n",
       "      <td>...</td>\n",
       "      <td>...</td>\n",
       "      <td>...</td>\n",
       "    </tr>\n",
       "    <tr>\n",
       "      <td>1894</td>\n",
       "      <td>9</td>\n",
       "      <td>No sabe / no Responde</td>\n",
       "      <td>9</td>\n",
       "      <td>No sabe / no Responde</td>\n",
       "      <td>9</td>\n",
       "      <td>No sabe / no Responde</td>\n",
       "      <td>9</td>\n",
       "      <td>No sabe / no Responde</td>\n",
       "      <td>12</td>\n",
       "      <td>55 to 59 years</td>\n",
       "      <td>1</td>\n",
       "      <td>Hombre</td>\n",
       "      <td>408</td>\n",
       "    </tr>\n",
       "    <tr>\n",
       "      <td>1895</td>\n",
       "      <td>9</td>\n",
       "      <td>No sabe / no Responde</td>\n",
       "      <td>9</td>\n",
       "      <td>No sabe / no Responde</td>\n",
       "      <td>9</td>\n",
       "      <td>No sabe / no Responde</td>\n",
       "      <td>9</td>\n",
       "      <td>No sabe / no Responde</td>\n",
       "      <td>12</td>\n",
       "      <td>55 to 59 years</td>\n",
       "      <td>2</td>\n",
       "      <td>Mujer</td>\n",
       "      <td>3233</td>\n",
       "    </tr>\n",
       "    <tr>\n",
       "      <td>1896</td>\n",
       "      <td>9</td>\n",
       "      <td>No sabe / no Responde</td>\n",
       "      <td>9</td>\n",
       "      <td>No sabe / no Responde</td>\n",
       "      <td>9</td>\n",
       "      <td>No sabe / no Responde</td>\n",
       "      <td>9</td>\n",
       "      <td>No sabe / no Responde</td>\n",
       "      <td>13</td>\n",
       "      <td>60 to 64 years</td>\n",
       "      <td>2</td>\n",
       "      <td>Mujer</td>\n",
       "      <td>1286</td>\n",
       "    </tr>\n",
       "    <tr>\n",
       "      <td>1897</td>\n",
       "      <td>9</td>\n",
       "      <td>No sabe / no Responde</td>\n",
       "      <td>9</td>\n",
       "      <td>No sabe / no Responde</td>\n",
       "      <td>9</td>\n",
       "      <td>No sabe / no Responde</td>\n",
       "      <td>9</td>\n",
       "      <td>No sabe / no Responde</td>\n",
       "      <td>16</td>\n",
       "      <td>75 to 79 years</td>\n",
       "      <td>1</td>\n",
       "      <td>Hombre</td>\n",
       "      <td>433</td>\n",
       "    </tr>\n",
       "    <tr>\n",
       "      <td>1898</td>\n",
       "      <td>9</td>\n",
       "      <td>No sabe / no Responde</td>\n",
       "      <td>9</td>\n",
       "      <td>No sabe / no Responde</td>\n",
       "      <td>9</td>\n",
       "      <td>No sabe / no Responde</td>\n",
       "      <td>9</td>\n",
       "      <td>No sabe / no Responde</td>\n",
       "      <td>17</td>\n",
       "      <td>80 or more years</td>\n",
       "      <td>1</td>\n",
       "      <td>Hombre</td>\n",
       "      <td>752</td>\n",
       "    </tr>\n",
       "  </tbody>\n",
       "</table>\n",
       "<p>1899 rows × 13 columns</p>\n",
       "</div>"
      ],
      "text/plain": [
       "      City Perception at Home ID City Perception at Home  \\\n",
       "0                              1                  Segura   \n",
       "1                              1                  Segura   \n",
       "2                              1                  Segura   \n",
       "3                              1                  Segura   \n",
       "4                              1                  Segura   \n",
       "...                          ...                     ...   \n",
       "1894                           9   No sabe / no Responde   \n",
       "1895                           9   No sabe / no Responde   \n",
       "1896                           9   No sabe / no Responde   \n",
       "1897                           9   No sabe / no Responde   \n",
       "1898                           9   No sabe / no Responde   \n",
       "\n",
       "      City Perception at Work ID City Perception at Work  \\\n",
       "0                              1                  Segura   \n",
       "1                              1                  Segura   \n",
       "2                              1                  Segura   \n",
       "3                              1                  Segura   \n",
       "4                              1                  Segura   \n",
       "...                          ...                     ...   \n",
       "1894                           9   No sabe / no Responde   \n",
       "1895                           9   No sabe / no Responde   \n",
       "1896                           9   No sabe / no Responde   \n",
       "1897                           9   No sabe / no Responde   \n",
       "1898                           9   No sabe / no Responde   \n",
       "\n",
       "      City Perception Streets ID City Perception Streets  \\\n",
       "0                              1                  Segura   \n",
       "1                              1                  Segura   \n",
       "2                              1                  Segura   \n",
       "3                              1                  Segura   \n",
       "4                              1                  Segura   \n",
       "...                          ...                     ...   \n",
       "1894                           9   No sabe / no Responde   \n",
       "1895                           9   No sabe / no Responde   \n",
       "1896                           9   No sabe / no Responde   \n",
       "1897                           9   No sabe / no Responde   \n",
       "1898                           9   No sabe / no Responde   \n",
       "\n",
       "      City Perception at Public Transport ID  \\\n",
       "0                                          1   \n",
       "1                                          1   \n",
       "2                                          1   \n",
       "3                                          1   \n",
       "4                                          1   \n",
       "...                                      ...   \n",
       "1894                                       9   \n",
       "1895                                       9   \n",
       "1896                                       9   \n",
       "1897                                       9   \n",
       "1898                                       9   \n",
       "\n",
       "     City Perception at Public Transport  Age Range ID         Age Range  \\\n",
       "0                                 Segura             4    15 to 19 years   \n",
       "1                                 Segura             4    15 to 19 years   \n",
       "2                                 Segura             5    20 to 24 years   \n",
       "3                                 Segura             5    20 to 24 years   \n",
       "4                                 Segura             6    25 to 29 years   \n",
       "...                                  ...           ...               ...   \n",
       "1894               No sabe / no Responde            12    55 to 59 years   \n",
       "1895               No sabe / no Responde            12    55 to 59 years   \n",
       "1896               No sabe / no Responde            13    60 to 64 years   \n",
       "1897               No sabe / no Responde            16    75 to 79 years   \n",
       "1898               No sabe / no Responde            17  80 or more years   \n",
       "\n",
       "      Sex ID     Sex  Population  \n",
       "0          1  Hombre     2009752  \n",
       "1          2   Mujer      596551  \n",
       "2          1  Hombre     5023784  \n",
       "3          2   Mujer     1651457  \n",
       "4          1  Hombre     4186276  \n",
       "...      ...     ...         ...  \n",
       "1894       1  Hombre         408  \n",
       "1895       2   Mujer        3233  \n",
       "1896       2   Mujer        1286  \n",
       "1897       1  Hombre         433  \n",
       "1898       1  Hombre         752  \n",
       "\n",
       "[1899 rows x 13 columns]"
      ]
     },
     "execution_count": 4,
     "metadata": {},
     "output_type": "execute_result"
    }
   ],
   "source": [
    "df= pd.read_csv('City Perception at Home-City Perception at Work-City Perception Streets-City Perception at Public Transport-Age Range-Sex.csv')\n",
    "df\n"
   ]
  },
  {
   "cell_type": "code",
   "execution_count": 5,
   "metadata": {
    "scrolled": true
   },
   "outputs": [
    {
     "data": {
      "text/html": [
       "<div>\n",
       "<style scoped>\n",
       "    .dataframe tbody tr th:only-of-type {\n",
       "        vertical-align: middle;\n",
       "    }\n",
       "\n",
       "    .dataframe tbody tr th {\n",
       "        vertical-align: top;\n",
       "    }\n",
       "\n",
       "    .dataframe thead th {\n",
       "        text-align: right;\n",
       "    }\n",
       "</style>\n",
       "<table border=\"1\" class=\"dataframe\">\n",
       "  <thead>\n",
       "    <tr style=\"text-align: right;\">\n",
       "      <th></th>\n",
       "      <th>City Perception at Home ID</th>\n",
       "      <th>City Perception at Home</th>\n",
       "      <th>City Perception at Work ID</th>\n",
       "      <th>City Perception at Work</th>\n",
       "      <th>City Perception Streets ID</th>\n",
       "      <th>City Perception Streets</th>\n",
       "      <th>City Perception at Public Transport ID</th>\n",
       "      <th>City Perception at Public Transport</th>\n",
       "      <th>Age Range ID</th>\n",
       "      <th>Age Range</th>\n",
       "      <th>Sex ID</th>\n",
       "      <th>Sex</th>\n",
       "      <th>Population</th>\n",
       "    </tr>\n",
       "  </thead>\n",
       "  <tbody>\n",
       "    <tr>\n",
       "      <td>1</td>\n",
       "      <td>1</td>\n",
       "      <td>Segura</td>\n",
       "      <td>1</td>\n",
       "      <td>Segura</td>\n",
       "      <td>1</td>\n",
       "      <td>Segura</td>\n",
       "      <td>1</td>\n",
       "      <td>Segura</td>\n",
       "      <td>4</td>\n",
       "      <td>15 to 19 years</td>\n",
       "      <td>2</td>\n",
       "      <td>Mujer</td>\n",
       "      <td>596551</td>\n",
       "    </tr>\n",
       "    <tr>\n",
       "      <td>3</td>\n",
       "      <td>1</td>\n",
       "      <td>Segura</td>\n",
       "      <td>1</td>\n",
       "      <td>Segura</td>\n",
       "      <td>1</td>\n",
       "      <td>Segura</td>\n",
       "      <td>1</td>\n",
       "      <td>Segura</td>\n",
       "      <td>5</td>\n",
       "      <td>20 to 24 years</td>\n",
       "      <td>2</td>\n",
       "      <td>Mujer</td>\n",
       "      <td>1651457</td>\n",
       "    </tr>\n",
       "    <tr>\n",
       "      <td>5</td>\n",
       "      <td>1</td>\n",
       "      <td>Segura</td>\n",
       "      <td>1</td>\n",
       "      <td>Segura</td>\n",
       "      <td>1</td>\n",
       "      <td>Segura</td>\n",
       "      <td>1</td>\n",
       "      <td>Segura</td>\n",
       "      <td>6</td>\n",
       "      <td>25 to 29 years</td>\n",
       "      <td>2</td>\n",
       "      <td>Mujer</td>\n",
       "      <td>1893165</td>\n",
       "    </tr>\n",
       "    <tr>\n",
       "      <td>7</td>\n",
       "      <td>1</td>\n",
       "      <td>Segura</td>\n",
       "      <td>1</td>\n",
       "      <td>Segura</td>\n",
       "      <td>1</td>\n",
       "      <td>Segura</td>\n",
       "      <td>1</td>\n",
       "      <td>Segura</td>\n",
       "      <td>7</td>\n",
       "      <td>30 to 34 years</td>\n",
       "      <td>2</td>\n",
       "      <td>Mujer</td>\n",
       "      <td>1770095</td>\n",
       "    </tr>\n",
       "    <tr>\n",
       "      <td>9</td>\n",
       "      <td>1</td>\n",
       "      <td>Segura</td>\n",
       "      <td>1</td>\n",
       "      <td>Segura</td>\n",
       "      <td>1</td>\n",
       "      <td>Segura</td>\n",
       "      <td>1</td>\n",
       "      <td>Segura</td>\n",
       "      <td>8</td>\n",
       "      <td>35 to 39 years</td>\n",
       "      <td>2</td>\n",
       "      <td>Mujer</td>\n",
       "      <td>1879288</td>\n",
       "    </tr>\n",
       "    <tr>\n",
       "      <td>...</td>\n",
       "      <td>...</td>\n",
       "      <td>...</td>\n",
       "      <td>...</td>\n",
       "      <td>...</td>\n",
       "      <td>...</td>\n",
       "      <td>...</td>\n",
       "      <td>...</td>\n",
       "      <td>...</td>\n",
       "      <td>...</td>\n",
       "      <td>...</td>\n",
       "      <td>...</td>\n",
       "      <td>...</td>\n",
       "      <td>...</td>\n",
       "    </tr>\n",
       "    <tr>\n",
       "      <td>1888</td>\n",
       "      <td>9</td>\n",
       "      <td>No sabe / no Responde</td>\n",
       "      <td>9</td>\n",
       "      <td>No sabe / no Responde</td>\n",
       "      <td>9</td>\n",
       "      <td>No sabe / no Responde</td>\n",
       "      <td>9</td>\n",
       "      <td>No sabe / no Responde</td>\n",
       "      <td>6</td>\n",
       "      <td>25 to 29 years</td>\n",
       "      <td>2</td>\n",
       "      <td>Mujer</td>\n",
       "      <td>613</td>\n",
       "    </tr>\n",
       "    <tr>\n",
       "      <td>1889</td>\n",
       "      <td>9</td>\n",
       "      <td>No sabe / no Responde</td>\n",
       "      <td>9</td>\n",
       "      <td>No sabe / no Responde</td>\n",
       "      <td>9</td>\n",
       "      <td>No sabe / no Responde</td>\n",
       "      <td>9</td>\n",
       "      <td>No sabe / no Responde</td>\n",
       "      <td>7</td>\n",
       "      <td>30 to 34 years</td>\n",
       "      <td>2</td>\n",
       "      <td>Mujer</td>\n",
       "      <td>2415</td>\n",
       "    </tr>\n",
       "    <tr>\n",
       "      <td>1892</td>\n",
       "      <td>9</td>\n",
       "      <td>No sabe / no Responde</td>\n",
       "      <td>9</td>\n",
       "      <td>No sabe / no Responde</td>\n",
       "      <td>9</td>\n",
       "      <td>No sabe / no Responde</td>\n",
       "      <td>9</td>\n",
       "      <td>No sabe / no Responde</td>\n",
       "      <td>9</td>\n",
       "      <td>40 to 44 years</td>\n",
       "      <td>2</td>\n",
       "      <td>Mujer</td>\n",
       "      <td>3955</td>\n",
       "    </tr>\n",
       "    <tr>\n",
       "      <td>1895</td>\n",
       "      <td>9</td>\n",
       "      <td>No sabe / no Responde</td>\n",
       "      <td>9</td>\n",
       "      <td>No sabe / no Responde</td>\n",
       "      <td>9</td>\n",
       "      <td>No sabe / no Responde</td>\n",
       "      <td>9</td>\n",
       "      <td>No sabe / no Responde</td>\n",
       "      <td>12</td>\n",
       "      <td>55 to 59 years</td>\n",
       "      <td>2</td>\n",
       "      <td>Mujer</td>\n",
       "      <td>3233</td>\n",
       "    </tr>\n",
       "    <tr>\n",
       "      <td>1896</td>\n",
       "      <td>9</td>\n",
       "      <td>No sabe / no Responde</td>\n",
       "      <td>9</td>\n",
       "      <td>No sabe / no Responde</td>\n",
       "      <td>9</td>\n",
       "      <td>No sabe / no Responde</td>\n",
       "      <td>9</td>\n",
       "      <td>No sabe / no Responde</td>\n",
       "      <td>13</td>\n",
       "      <td>60 to 64 years</td>\n",
       "      <td>2</td>\n",
       "      <td>Mujer</td>\n",
       "      <td>1286</td>\n",
       "    </tr>\n",
       "  </tbody>\n",
       "</table>\n",
       "<p>985 rows × 13 columns</p>\n",
       "</div>"
      ],
      "text/plain": [
       "      City Perception at Home ID City Perception at Home  \\\n",
       "1                              1                  Segura   \n",
       "3                              1                  Segura   \n",
       "5                              1                  Segura   \n",
       "7                              1                  Segura   \n",
       "9                              1                  Segura   \n",
       "...                          ...                     ...   \n",
       "1888                           9   No sabe / no Responde   \n",
       "1889                           9   No sabe / no Responde   \n",
       "1892                           9   No sabe / no Responde   \n",
       "1895                           9   No sabe / no Responde   \n",
       "1896                           9   No sabe / no Responde   \n",
       "\n",
       "      City Perception at Work ID City Perception at Work  \\\n",
       "1                              1                  Segura   \n",
       "3                              1                  Segura   \n",
       "5                              1                  Segura   \n",
       "7                              1                  Segura   \n",
       "9                              1                  Segura   \n",
       "...                          ...                     ...   \n",
       "1888                           9   No sabe / no Responde   \n",
       "1889                           9   No sabe / no Responde   \n",
       "1892                           9   No sabe / no Responde   \n",
       "1895                           9   No sabe / no Responde   \n",
       "1896                           9   No sabe / no Responde   \n",
       "\n",
       "      City Perception Streets ID City Perception Streets  \\\n",
       "1                              1                  Segura   \n",
       "3                              1                  Segura   \n",
       "5                              1                  Segura   \n",
       "7                              1                  Segura   \n",
       "9                              1                  Segura   \n",
       "...                          ...                     ...   \n",
       "1888                           9   No sabe / no Responde   \n",
       "1889                           9   No sabe / no Responde   \n",
       "1892                           9   No sabe / no Responde   \n",
       "1895                           9   No sabe / no Responde   \n",
       "1896                           9   No sabe / no Responde   \n",
       "\n",
       "      City Perception at Public Transport ID  \\\n",
       "1                                          1   \n",
       "3                                          1   \n",
       "5                                          1   \n",
       "7                                          1   \n",
       "9                                          1   \n",
       "...                                      ...   \n",
       "1888                                       9   \n",
       "1889                                       9   \n",
       "1892                                       9   \n",
       "1895                                       9   \n",
       "1896                                       9   \n",
       "\n",
       "     City Perception at Public Transport  Age Range ID       Age Range  \\\n",
       "1                                 Segura             4  15 to 19 years   \n",
       "3                                 Segura             5  20 to 24 years   \n",
       "5                                 Segura             6  25 to 29 years   \n",
       "7                                 Segura             7  30 to 34 years   \n",
       "9                                 Segura             8  35 to 39 years   \n",
       "...                                  ...           ...             ...   \n",
       "1888               No sabe / no Responde             6  25 to 29 years   \n",
       "1889               No sabe / no Responde             7  30 to 34 years   \n",
       "1892               No sabe / no Responde             9  40 to 44 years   \n",
       "1895               No sabe / no Responde            12  55 to 59 years   \n",
       "1896               No sabe / no Responde            13  60 to 64 years   \n",
       "\n",
       "      Sex ID    Sex  Population  \n",
       "1          2  Mujer      596551  \n",
       "3          2  Mujer     1651457  \n",
       "5          2  Mujer     1893165  \n",
       "7          2  Mujer     1770095  \n",
       "9          2  Mujer     1879288  \n",
       "...      ...    ...         ...  \n",
       "1888       2  Mujer         613  \n",
       "1889       2  Mujer        2415  \n",
       "1892       2  Mujer        3955  \n",
       "1895       2  Mujer        3233  \n",
       "1896       2  Mujer        1286  \n",
       "\n",
       "[985 rows x 13 columns]"
      ]
     },
     "execution_count": 5,
     "metadata": {},
     "output_type": "execute_result"
    }
   ],
   "source": [
    "df[df['Sex']=='Mujer']"
   ]
  },
  {
   "cell_type": "code",
   "execution_count": 19,
   "metadata": {},
   "outputs": [],
   "source": [
    "def seg_home(age_range):\n",
    "    dff=df[(df['Age Range']== age_range)&(df['Sex']=='Mujer')]\n",
    "    fig = px.pie(dff, values='Population', names='City Perception at Public Transport', title=f\"Percepción de seguridad de la ciudad estando en casa de mujeres entre {age_range.split()[0]} y {age_range.split()[-2]} años\")\n",
    "    return fig"
   ]
  },
  {
   "cell_type": "code",
   "execution_count": 20,
   "metadata": {},
   "outputs": [
    {
     "data": {
      "application/vnd.plotly.v1+json": {
       "config": {
        "plotlyServerURL": "https://plot.ly"
       },
       "data": [
        {
         "domain": {
          "x": [
           0,
           1
          ],
          "y": [
           0,
           1
          ]
         },
         "hovertemplate": "City Perception at Public Transport=%{label}<br>Population=%{value}<extra></extra>",
         "labels": [
          "Segura",
          "Insegura",
          "No aplica",
          "No sabe / no Responde",
          "Segura",
          "Insegura",
          "No aplica",
          "No sabe / no Responde",
          "Segura",
          "Insegura",
          "No aplica",
          "Segura",
          "Insegura",
          "Segura",
          "Insegura",
          "No aplica",
          "No sabe / no Responde",
          "Segura",
          "Insegura",
          "No aplica",
          "No sabe / no Responde",
          "Insegura",
          "No aplica",
          "Segura",
          "Insegura",
          "No aplica",
          "No sabe / no Responde",
          "Segura",
          "Insegura",
          "No aplica",
          "Segura",
          "Insegura",
          "No aplica",
          "Segura",
          "Insegura",
          "No sabe / no Responde",
          "Insegura",
          "Insegura",
          "Insegura",
          "Segura",
          "Insegura",
          "No aplica",
          "Segura",
          "Insegura",
          "No aplica",
          "No sabe / no Responde",
          "Segura",
          "Insegura",
          "No aplica",
          "Segura",
          "Insegura",
          "No aplica",
          "Segura",
          "Insegura",
          "No aplica",
          "No sabe / no Responde",
          "Segura",
          "Insegura",
          "No aplica",
          "Segura",
          "Insegura",
          "No aplica",
          "Segura",
          "Insegura",
          "No aplica",
          "No sabe / no Responde",
          "Insegura",
          "No aplica",
          "Insegura",
          "Segura",
          "Insegura",
          "Insegura",
          "Segura",
          "Insegura",
          "Insegura",
          "No aplica",
          "No aplica"
         ],
         "legendgroup": "",
         "name": "",
         "showlegend": true,
         "type": "pie",
         "values": [
          2068211,
          1288086,
          1089496,
          15266,
          658492,
          3821735,
          786833,
          8581,
          1261,
          19330,
          1844,
          2033,
          7223,
          190302,
          279501,
          141932,
          997,
          176704,
          2519936,
          504637,
          855,
          17976,
          2478,
          1296248,
          947841,
          569912,
          1303,
          460474,
          2158845,
          496960,
          14986,
          3341,
          26292,
          3286,
          1765,
          637,
          3187,
          11688,
          1511,
          82878,
          148780,
          51128,
          138471,
          1093666,
          149577,
          2196,
          4161,
          10218,
          1024,
          16660,
          134133,
          27114,
          220369,
          4414399,
          581115,
          5621,
          1217,
          20248,
          12049,
          93753,
          122248,
          29283,
          252874,
          2656195,
          316333,
          1747,
          18603,
          19820,
          8195,
          507,
          517,
          2779,
          3340,
          1651,
          187,
          1556,
          880
         ]
        }
       ],
       "layout": {
        "legend": {
         "tracegroupgap": 0
        },
        "template": {
         "data": {
          "bar": [
           {
            "error_x": {
             "color": "#2a3f5f"
            },
            "error_y": {
             "color": "#2a3f5f"
            },
            "marker": {
             "line": {
              "color": "#E5ECF6",
              "width": 0.5
             }
            },
            "type": "bar"
           }
          ],
          "barpolar": [
           {
            "marker": {
             "line": {
              "color": "#E5ECF6",
              "width": 0.5
             }
            },
            "type": "barpolar"
           }
          ],
          "carpet": [
           {
            "aaxis": {
             "endlinecolor": "#2a3f5f",
             "gridcolor": "white",
             "linecolor": "white",
             "minorgridcolor": "white",
             "startlinecolor": "#2a3f5f"
            },
            "baxis": {
             "endlinecolor": "#2a3f5f",
             "gridcolor": "white",
             "linecolor": "white",
             "minorgridcolor": "white",
             "startlinecolor": "#2a3f5f"
            },
            "type": "carpet"
           }
          ],
          "choropleth": [
           {
            "colorbar": {
             "outlinewidth": 0,
             "ticks": ""
            },
            "type": "choropleth"
           }
          ],
          "contour": [
           {
            "colorbar": {
             "outlinewidth": 0,
             "ticks": ""
            },
            "colorscale": [
             [
              0,
              "#0d0887"
             ],
             [
              0.1111111111111111,
              "#46039f"
             ],
             [
              0.2222222222222222,
              "#7201a8"
             ],
             [
              0.3333333333333333,
              "#9c179e"
             ],
             [
              0.4444444444444444,
              "#bd3786"
             ],
             [
              0.5555555555555556,
              "#d8576b"
             ],
             [
              0.6666666666666666,
              "#ed7953"
             ],
             [
              0.7777777777777778,
              "#fb9f3a"
             ],
             [
              0.8888888888888888,
              "#fdca26"
             ],
             [
              1,
              "#f0f921"
             ]
            ],
            "type": "contour"
           }
          ],
          "contourcarpet": [
           {
            "colorbar": {
             "outlinewidth": 0,
             "ticks": ""
            },
            "type": "contourcarpet"
           }
          ],
          "heatmap": [
           {
            "colorbar": {
             "outlinewidth": 0,
             "ticks": ""
            },
            "colorscale": [
             [
              0,
              "#0d0887"
             ],
             [
              0.1111111111111111,
              "#46039f"
             ],
             [
              0.2222222222222222,
              "#7201a8"
             ],
             [
              0.3333333333333333,
              "#9c179e"
             ],
             [
              0.4444444444444444,
              "#bd3786"
             ],
             [
              0.5555555555555556,
              "#d8576b"
             ],
             [
              0.6666666666666666,
              "#ed7953"
             ],
             [
              0.7777777777777778,
              "#fb9f3a"
             ],
             [
              0.8888888888888888,
              "#fdca26"
             ],
             [
              1,
              "#f0f921"
             ]
            ],
            "type": "heatmap"
           }
          ],
          "heatmapgl": [
           {
            "colorbar": {
             "outlinewidth": 0,
             "ticks": ""
            },
            "colorscale": [
             [
              0,
              "#0d0887"
             ],
             [
              0.1111111111111111,
              "#46039f"
             ],
             [
              0.2222222222222222,
              "#7201a8"
             ],
             [
              0.3333333333333333,
              "#9c179e"
             ],
             [
              0.4444444444444444,
              "#bd3786"
             ],
             [
              0.5555555555555556,
              "#d8576b"
             ],
             [
              0.6666666666666666,
              "#ed7953"
             ],
             [
              0.7777777777777778,
              "#fb9f3a"
             ],
             [
              0.8888888888888888,
              "#fdca26"
             ],
             [
              1,
              "#f0f921"
             ]
            ],
            "type": "heatmapgl"
           }
          ],
          "histogram": [
           {
            "marker": {
             "colorbar": {
              "outlinewidth": 0,
              "ticks": ""
             }
            },
            "type": "histogram"
           }
          ],
          "histogram2d": [
           {
            "colorbar": {
             "outlinewidth": 0,
             "ticks": ""
            },
            "colorscale": [
             [
              0,
              "#0d0887"
             ],
             [
              0.1111111111111111,
              "#46039f"
             ],
             [
              0.2222222222222222,
              "#7201a8"
             ],
             [
              0.3333333333333333,
              "#9c179e"
             ],
             [
              0.4444444444444444,
              "#bd3786"
             ],
             [
              0.5555555555555556,
              "#d8576b"
             ],
             [
              0.6666666666666666,
              "#ed7953"
             ],
             [
              0.7777777777777778,
              "#fb9f3a"
             ],
             [
              0.8888888888888888,
              "#fdca26"
             ],
             [
              1,
              "#f0f921"
             ]
            ],
            "type": "histogram2d"
           }
          ],
          "histogram2dcontour": [
           {
            "colorbar": {
             "outlinewidth": 0,
             "ticks": ""
            },
            "colorscale": [
             [
              0,
              "#0d0887"
             ],
             [
              0.1111111111111111,
              "#46039f"
             ],
             [
              0.2222222222222222,
              "#7201a8"
             ],
             [
              0.3333333333333333,
              "#9c179e"
             ],
             [
              0.4444444444444444,
              "#bd3786"
             ],
             [
              0.5555555555555556,
              "#d8576b"
             ],
             [
              0.6666666666666666,
              "#ed7953"
             ],
             [
              0.7777777777777778,
              "#fb9f3a"
             ],
             [
              0.8888888888888888,
              "#fdca26"
             ],
             [
              1,
              "#f0f921"
             ]
            ],
            "type": "histogram2dcontour"
           }
          ],
          "mesh3d": [
           {
            "colorbar": {
             "outlinewidth": 0,
             "ticks": ""
            },
            "type": "mesh3d"
           }
          ],
          "parcoords": [
           {
            "line": {
             "colorbar": {
              "outlinewidth": 0,
              "ticks": ""
             }
            },
            "type": "parcoords"
           }
          ],
          "pie": [
           {
            "automargin": true,
            "type": "pie"
           }
          ],
          "scatter": [
           {
            "marker": {
             "colorbar": {
              "outlinewidth": 0,
              "ticks": ""
             }
            },
            "type": "scatter"
           }
          ],
          "scatter3d": [
           {
            "line": {
             "colorbar": {
              "outlinewidth": 0,
              "ticks": ""
             }
            },
            "marker": {
             "colorbar": {
              "outlinewidth": 0,
              "ticks": ""
             }
            },
            "type": "scatter3d"
           }
          ],
          "scattercarpet": [
           {
            "marker": {
             "colorbar": {
              "outlinewidth": 0,
              "ticks": ""
             }
            },
            "type": "scattercarpet"
           }
          ],
          "scattergeo": [
           {
            "marker": {
             "colorbar": {
              "outlinewidth": 0,
              "ticks": ""
             }
            },
            "type": "scattergeo"
           }
          ],
          "scattergl": [
           {
            "marker": {
             "colorbar": {
              "outlinewidth": 0,
              "ticks": ""
             }
            },
            "type": "scattergl"
           }
          ],
          "scattermapbox": [
           {
            "marker": {
             "colorbar": {
              "outlinewidth": 0,
              "ticks": ""
             }
            },
            "type": "scattermapbox"
           }
          ],
          "scatterpolar": [
           {
            "marker": {
             "colorbar": {
              "outlinewidth": 0,
              "ticks": ""
             }
            },
            "type": "scatterpolar"
           }
          ],
          "scatterpolargl": [
           {
            "marker": {
             "colorbar": {
              "outlinewidth": 0,
              "ticks": ""
             }
            },
            "type": "scatterpolargl"
           }
          ],
          "scatterternary": [
           {
            "marker": {
             "colorbar": {
              "outlinewidth": 0,
              "ticks": ""
             }
            },
            "type": "scatterternary"
           }
          ],
          "surface": [
           {
            "colorbar": {
             "outlinewidth": 0,
             "ticks": ""
            },
            "colorscale": [
             [
              0,
              "#0d0887"
             ],
             [
              0.1111111111111111,
              "#46039f"
             ],
             [
              0.2222222222222222,
              "#7201a8"
             ],
             [
              0.3333333333333333,
              "#9c179e"
             ],
             [
              0.4444444444444444,
              "#bd3786"
             ],
             [
              0.5555555555555556,
              "#d8576b"
             ],
             [
              0.6666666666666666,
              "#ed7953"
             ],
             [
              0.7777777777777778,
              "#fb9f3a"
             ],
             [
              0.8888888888888888,
              "#fdca26"
             ],
             [
              1,
              "#f0f921"
             ]
            ],
            "type": "surface"
           }
          ],
          "table": [
           {
            "cells": {
             "fill": {
              "color": "#EBF0F8"
             },
             "line": {
              "color": "white"
             }
            },
            "header": {
             "fill": {
              "color": "#C8D4E3"
             },
             "line": {
              "color": "white"
             }
            },
            "type": "table"
           }
          ]
         },
         "layout": {
          "annotationdefaults": {
           "arrowcolor": "#2a3f5f",
           "arrowhead": 0,
           "arrowwidth": 1
          },
          "coloraxis": {
           "colorbar": {
            "outlinewidth": 0,
            "ticks": ""
           }
          },
          "colorscale": {
           "diverging": [
            [
             0,
             "#8e0152"
            ],
            [
             0.1,
             "#c51b7d"
            ],
            [
             0.2,
             "#de77ae"
            ],
            [
             0.3,
             "#f1b6da"
            ],
            [
             0.4,
             "#fde0ef"
            ],
            [
             0.5,
             "#f7f7f7"
            ],
            [
             0.6,
             "#e6f5d0"
            ],
            [
             0.7,
             "#b8e186"
            ],
            [
             0.8,
             "#7fbc41"
            ],
            [
             0.9,
             "#4d9221"
            ],
            [
             1,
             "#276419"
            ]
           ],
           "sequential": [
            [
             0,
             "#0d0887"
            ],
            [
             0.1111111111111111,
             "#46039f"
            ],
            [
             0.2222222222222222,
             "#7201a8"
            ],
            [
             0.3333333333333333,
             "#9c179e"
            ],
            [
             0.4444444444444444,
             "#bd3786"
            ],
            [
             0.5555555555555556,
             "#d8576b"
            ],
            [
             0.6666666666666666,
             "#ed7953"
            ],
            [
             0.7777777777777778,
             "#fb9f3a"
            ],
            [
             0.8888888888888888,
             "#fdca26"
            ],
            [
             1,
             "#f0f921"
            ]
           ],
           "sequentialminus": [
            [
             0,
             "#0d0887"
            ],
            [
             0.1111111111111111,
             "#46039f"
            ],
            [
             0.2222222222222222,
             "#7201a8"
            ],
            [
             0.3333333333333333,
             "#9c179e"
            ],
            [
             0.4444444444444444,
             "#bd3786"
            ],
            [
             0.5555555555555556,
             "#d8576b"
            ],
            [
             0.6666666666666666,
             "#ed7953"
            ],
            [
             0.7777777777777778,
             "#fb9f3a"
            ],
            [
             0.8888888888888888,
             "#fdca26"
            ],
            [
             1,
             "#f0f921"
            ]
           ]
          },
          "colorway": [
           "#636efa",
           "#EF553B",
           "#00cc96",
           "#ab63fa",
           "#FFA15A",
           "#19d3f3",
           "#FF6692",
           "#B6E880",
           "#FF97FF",
           "#FECB52"
          ],
          "font": {
           "color": "#2a3f5f"
          },
          "geo": {
           "bgcolor": "white",
           "lakecolor": "white",
           "landcolor": "#E5ECF6",
           "showlakes": true,
           "showland": true,
           "subunitcolor": "white"
          },
          "hoverlabel": {
           "align": "left"
          },
          "hovermode": "closest",
          "mapbox": {
           "style": "light"
          },
          "paper_bgcolor": "white",
          "plot_bgcolor": "#E5ECF6",
          "polar": {
           "angularaxis": {
            "gridcolor": "white",
            "linecolor": "white",
            "ticks": ""
           },
           "bgcolor": "#E5ECF6",
           "radialaxis": {
            "gridcolor": "white",
            "linecolor": "white",
            "ticks": ""
           }
          },
          "scene": {
           "xaxis": {
            "backgroundcolor": "#E5ECF6",
            "gridcolor": "white",
            "gridwidth": 2,
            "linecolor": "white",
            "showbackground": true,
            "ticks": "",
            "zerolinecolor": "white"
           },
           "yaxis": {
            "backgroundcolor": "#E5ECF6",
            "gridcolor": "white",
            "gridwidth": 2,
            "linecolor": "white",
            "showbackground": true,
            "ticks": "",
            "zerolinecolor": "white"
           },
           "zaxis": {
            "backgroundcolor": "#E5ECF6",
            "gridcolor": "white",
            "gridwidth": 2,
            "linecolor": "white",
            "showbackground": true,
            "ticks": "",
            "zerolinecolor": "white"
           }
          },
          "shapedefaults": {
           "line": {
            "color": "#2a3f5f"
           }
          },
          "ternary": {
           "aaxis": {
            "gridcolor": "white",
            "linecolor": "white",
            "ticks": ""
           },
           "baxis": {
            "gridcolor": "white",
            "linecolor": "white",
            "ticks": ""
           },
           "bgcolor": "#E5ECF6",
           "caxis": {
            "gridcolor": "white",
            "linecolor": "white",
            "ticks": ""
           }
          },
          "title": {
           "x": 0.05
          },
          "xaxis": {
           "automargin": true,
           "gridcolor": "white",
           "linecolor": "white",
           "ticks": "",
           "title": {
            "standoff": 15
           },
           "zerolinecolor": "white",
           "zerolinewidth": 2
          },
          "yaxis": {
           "automargin": true,
           "gridcolor": "white",
           "linecolor": "white",
           "ticks": "",
           "title": {
            "standoff": 15
           },
           "zerolinecolor": "white",
           "zerolinewidth": 2
          }
         }
        },
        "title": {
         "text": "Percepción de seguridad de la ciudad estando en casa de mujeres entre 45 y 49 años"
        }
       }
      },
      "text/html": [
       "<div>                            <div id=\"5385c41a-8f25-4602-ae59-7ea7cfed8ed0\" class=\"plotly-graph-div\" style=\"height:525px; width:100%;\"></div>            <script type=\"text/javascript\">                require([\"plotly\"], function(Plotly) {                    window.PLOTLYENV=window.PLOTLYENV || {};                                    if (document.getElementById(\"5385c41a-8f25-4602-ae59-7ea7cfed8ed0\")) {                    Plotly.newPlot(                        \"5385c41a-8f25-4602-ae59-7ea7cfed8ed0\",                        [{\"domain\": {\"x\": [0.0, 1.0], \"y\": [0.0, 1.0]}, \"hovertemplate\": \"City Perception at Public Transport=%{label}<br>Population=%{value}<extra></extra>\", \"labels\": [\"Segura\", \"Insegura\", \"No aplica\", \"No sabe / no Responde\", \"Segura\", \"Insegura\", \"No aplica\", \"No sabe / no Responde\", \"Segura\", \"Insegura\", \"No aplica\", \"Segura\", \"Insegura\", \"Segura\", \"Insegura\", \"No aplica\", \"No sabe / no Responde\", \"Segura\", \"Insegura\", \"No aplica\", \"No sabe / no Responde\", \"Insegura\", \"No aplica\", \"Segura\", \"Insegura\", \"No aplica\", \"No sabe / no Responde\", \"Segura\", \"Insegura\", \"No aplica\", \"Segura\", \"Insegura\", \"No aplica\", \"Segura\", \"Insegura\", \"No sabe / no Responde\", \"Insegura\", \"Insegura\", \"Insegura\", \"Segura\", \"Insegura\", \"No aplica\", \"Segura\", \"Insegura\", \"No aplica\", \"No sabe / no Responde\", \"Segura\", \"Insegura\", \"No aplica\", \"Segura\", \"Insegura\", \"No aplica\", \"Segura\", \"Insegura\", \"No aplica\", \"No sabe / no Responde\", \"Segura\", \"Insegura\", \"No aplica\", \"Segura\", \"Insegura\", \"No aplica\", \"Segura\", \"Insegura\", \"No aplica\", \"No sabe / no Responde\", \"Insegura\", \"No aplica\", \"Insegura\", \"Segura\", \"Insegura\", \"Insegura\", \"Segura\", \"Insegura\", \"Insegura\", \"No aplica\", \"No aplica\"], \"legendgroup\": \"\", \"name\": \"\", \"showlegend\": true, \"type\": \"pie\", \"values\": [2068211, 1288086, 1089496, 15266, 658492, 3821735, 786833, 8581, 1261, 19330, 1844, 2033, 7223, 190302, 279501, 141932, 997, 176704, 2519936, 504637, 855, 17976, 2478, 1296248, 947841, 569912, 1303, 460474, 2158845, 496960, 14986, 3341, 26292, 3286, 1765, 637, 3187, 11688, 1511, 82878, 148780, 51128, 138471, 1093666, 149577, 2196, 4161, 10218, 1024, 16660, 134133, 27114, 220369, 4414399, 581115, 5621, 1217, 20248, 12049, 93753, 122248, 29283, 252874, 2656195, 316333, 1747, 18603, 19820, 8195, 507, 517, 2779, 3340, 1651, 187, 1556, 880]}],                        {\"legend\": {\"tracegroupgap\": 0}, \"template\": {\"data\": {\"bar\": [{\"error_x\": {\"color\": \"#2a3f5f\"}, \"error_y\": {\"color\": \"#2a3f5f\"}, \"marker\": {\"line\": {\"color\": \"#E5ECF6\", \"width\": 0.5}}, \"type\": \"bar\"}], \"barpolar\": [{\"marker\": {\"line\": {\"color\": \"#E5ECF6\", \"width\": 0.5}}, \"type\": \"barpolar\"}], \"carpet\": [{\"aaxis\": {\"endlinecolor\": \"#2a3f5f\", \"gridcolor\": \"white\", \"linecolor\": \"white\", \"minorgridcolor\": \"white\", \"startlinecolor\": \"#2a3f5f\"}, \"baxis\": {\"endlinecolor\": \"#2a3f5f\", \"gridcolor\": \"white\", \"linecolor\": \"white\", \"minorgridcolor\": \"white\", \"startlinecolor\": \"#2a3f5f\"}, \"type\": \"carpet\"}], \"choropleth\": [{\"colorbar\": {\"outlinewidth\": 0, \"ticks\": \"\"}, \"type\": \"choropleth\"}], \"contour\": [{\"colorbar\": {\"outlinewidth\": 0, \"ticks\": \"\"}, \"colorscale\": [[0.0, \"#0d0887\"], [0.1111111111111111, \"#46039f\"], [0.2222222222222222, \"#7201a8\"], [0.3333333333333333, \"#9c179e\"], [0.4444444444444444, \"#bd3786\"], [0.5555555555555556, \"#d8576b\"], [0.6666666666666666, \"#ed7953\"], [0.7777777777777778, \"#fb9f3a\"], [0.8888888888888888, \"#fdca26\"], [1.0, \"#f0f921\"]], \"type\": \"contour\"}], \"contourcarpet\": [{\"colorbar\": {\"outlinewidth\": 0, \"ticks\": \"\"}, \"type\": \"contourcarpet\"}], \"heatmap\": [{\"colorbar\": {\"outlinewidth\": 0, \"ticks\": \"\"}, \"colorscale\": [[0.0, \"#0d0887\"], [0.1111111111111111, \"#46039f\"], [0.2222222222222222, \"#7201a8\"], [0.3333333333333333, \"#9c179e\"], [0.4444444444444444, \"#bd3786\"], [0.5555555555555556, \"#d8576b\"], [0.6666666666666666, \"#ed7953\"], [0.7777777777777778, \"#fb9f3a\"], [0.8888888888888888, \"#fdca26\"], [1.0, \"#f0f921\"]], \"type\": \"heatmap\"}], \"heatmapgl\": [{\"colorbar\": {\"outlinewidth\": 0, \"ticks\": \"\"}, \"colorscale\": [[0.0, \"#0d0887\"], [0.1111111111111111, \"#46039f\"], [0.2222222222222222, \"#7201a8\"], [0.3333333333333333, \"#9c179e\"], [0.4444444444444444, \"#bd3786\"], [0.5555555555555556, \"#d8576b\"], [0.6666666666666666, \"#ed7953\"], [0.7777777777777778, \"#fb9f3a\"], [0.8888888888888888, \"#fdca26\"], [1.0, \"#f0f921\"]], \"type\": \"heatmapgl\"}], \"histogram\": [{\"marker\": {\"colorbar\": {\"outlinewidth\": 0, \"ticks\": \"\"}}, \"type\": \"histogram\"}], \"histogram2d\": [{\"colorbar\": {\"outlinewidth\": 0, \"ticks\": \"\"}, \"colorscale\": [[0.0, \"#0d0887\"], [0.1111111111111111, \"#46039f\"], [0.2222222222222222, \"#7201a8\"], [0.3333333333333333, \"#9c179e\"], [0.4444444444444444, \"#bd3786\"], [0.5555555555555556, \"#d8576b\"], [0.6666666666666666, \"#ed7953\"], [0.7777777777777778, \"#fb9f3a\"], [0.8888888888888888, \"#fdca26\"], [1.0, \"#f0f921\"]], \"type\": \"histogram2d\"}], \"histogram2dcontour\": [{\"colorbar\": {\"outlinewidth\": 0, \"ticks\": \"\"}, \"colorscale\": [[0.0, \"#0d0887\"], [0.1111111111111111, \"#46039f\"], [0.2222222222222222, \"#7201a8\"], [0.3333333333333333, \"#9c179e\"], [0.4444444444444444, \"#bd3786\"], [0.5555555555555556, \"#d8576b\"], [0.6666666666666666, \"#ed7953\"], [0.7777777777777778, \"#fb9f3a\"], [0.8888888888888888, \"#fdca26\"], [1.0, \"#f0f921\"]], \"type\": \"histogram2dcontour\"}], \"mesh3d\": [{\"colorbar\": {\"outlinewidth\": 0, \"ticks\": \"\"}, \"type\": \"mesh3d\"}], \"parcoords\": [{\"line\": {\"colorbar\": {\"outlinewidth\": 0, \"ticks\": \"\"}}, \"type\": \"parcoords\"}], \"pie\": [{\"automargin\": true, \"type\": \"pie\"}], \"scatter\": [{\"marker\": {\"colorbar\": {\"outlinewidth\": 0, \"ticks\": \"\"}}, \"type\": \"scatter\"}], \"scatter3d\": [{\"line\": {\"colorbar\": {\"outlinewidth\": 0, \"ticks\": \"\"}}, \"marker\": {\"colorbar\": {\"outlinewidth\": 0, \"ticks\": \"\"}}, \"type\": \"scatter3d\"}], \"scattercarpet\": [{\"marker\": {\"colorbar\": {\"outlinewidth\": 0, \"ticks\": \"\"}}, \"type\": \"scattercarpet\"}], \"scattergeo\": [{\"marker\": {\"colorbar\": {\"outlinewidth\": 0, \"ticks\": \"\"}}, \"type\": \"scattergeo\"}], \"scattergl\": [{\"marker\": {\"colorbar\": {\"outlinewidth\": 0, \"ticks\": \"\"}}, \"type\": \"scattergl\"}], \"scattermapbox\": [{\"marker\": {\"colorbar\": {\"outlinewidth\": 0, \"ticks\": \"\"}}, \"type\": \"scattermapbox\"}], \"scatterpolar\": [{\"marker\": {\"colorbar\": {\"outlinewidth\": 0, \"ticks\": \"\"}}, \"type\": \"scatterpolar\"}], \"scatterpolargl\": [{\"marker\": {\"colorbar\": {\"outlinewidth\": 0, \"ticks\": \"\"}}, \"type\": \"scatterpolargl\"}], \"scatterternary\": [{\"marker\": {\"colorbar\": {\"outlinewidth\": 0, \"ticks\": \"\"}}, \"type\": \"scatterternary\"}], \"surface\": [{\"colorbar\": {\"outlinewidth\": 0, \"ticks\": \"\"}, \"colorscale\": [[0.0, \"#0d0887\"], [0.1111111111111111, \"#46039f\"], [0.2222222222222222, \"#7201a8\"], [0.3333333333333333, \"#9c179e\"], [0.4444444444444444, \"#bd3786\"], [0.5555555555555556, \"#d8576b\"], [0.6666666666666666, \"#ed7953\"], [0.7777777777777778, \"#fb9f3a\"], [0.8888888888888888, \"#fdca26\"], [1.0, \"#f0f921\"]], \"type\": \"surface\"}], \"table\": [{\"cells\": {\"fill\": {\"color\": \"#EBF0F8\"}, \"line\": {\"color\": \"white\"}}, \"header\": {\"fill\": {\"color\": \"#C8D4E3\"}, \"line\": {\"color\": \"white\"}}, \"type\": \"table\"}]}, \"layout\": {\"annotationdefaults\": {\"arrowcolor\": \"#2a3f5f\", \"arrowhead\": 0, \"arrowwidth\": 1}, \"coloraxis\": {\"colorbar\": {\"outlinewidth\": 0, \"ticks\": \"\"}}, \"colorscale\": {\"diverging\": [[0, \"#8e0152\"], [0.1, \"#c51b7d\"], [0.2, \"#de77ae\"], [0.3, \"#f1b6da\"], [0.4, \"#fde0ef\"], [0.5, \"#f7f7f7\"], [0.6, \"#e6f5d0\"], [0.7, \"#b8e186\"], [0.8, \"#7fbc41\"], [0.9, \"#4d9221\"], [1, \"#276419\"]], \"sequential\": [[0.0, \"#0d0887\"], [0.1111111111111111, \"#46039f\"], [0.2222222222222222, \"#7201a8\"], [0.3333333333333333, \"#9c179e\"], [0.4444444444444444, \"#bd3786\"], [0.5555555555555556, \"#d8576b\"], [0.6666666666666666, \"#ed7953\"], [0.7777777777777778, \"#fb9f3a\"], [0.8888888888888888, \"#fdca26\"], [1.0, \"#f0f921\"]], \"sequentialminus\": [[0.0, \"#0d0887\"], [0.1111111111111111, \"#46039f\"], [0.2222222222222222, \"#7201a8\"], [0.3333333333333333, \"#9c179e\"], [0.4444444444444444, \"#bd3786\"], [0.5555555555555556, \"#d8576b\"], [0.6666666666666666, \"#ed7953\"], [0.7777777777777778, \"#fb9f3a\"], [0.8888888888888888, \"#fdca26\"], [1.0, \"#f0f921\"]]}, \"colorway\": [\"#636efa\", \"#EF553B\", \"#00cc96\", \"#ab63fa\", \"#FFA15A\", \"#19d3f3\", \"#FF6692\", \"#B6E880\", \"#FF97FF\", \"#FECB52\"], \"font\": {\"color\": \"#2a3f5f\"}, \"geo\": {\"bgcolor\": \"white\", \"lakecolor\": \"white\", \"landcolor\": \"#E5ECF6\", \"showlakes\": true, \"showland\": true, \"subunitcolor\": \"white\"}, \"hoverlabel\": {\"align\": \"left\"}, \"hovermode\": \"closest\", \"mapbox\": {\"style\": \"light\"}, \"paper_bgcolor\": \"white\", \"plot_bgcolor\": \"#E5ECF6\", \"polar\": {\"angularaxis\": {\"gridcolor\": \"white\", \"linecolor\": \"white\", \"ticks\": \"\"}, \"bgcolor\": \"#E5ECF6\", \"radialaxis\": {\"gridcolor\": \"white\", \"linecolor\": \"white\", \"ticks\": \"\"}}, \"scene\": {\"xaxis\": {\"backgroundcolor\": \"#E5ECF6\", \"gridcolor\": \"white\", \"gridwidth\": 2, \"linecolor\": \"white\", \"showbackground\": true, \"ticks\": \"\", \"zerolinecolor\": \"white\"}, \"yaxis\": {\"backgroundcolor\": \"#E5ECF6\", \"gridcolor\": \"white\", \"gridwidth\": 2, \"linecolor\": \"white\", \"showbackground\": true, \"ticks\": \"\", \"zerolinecolor\": \"white\"}, \"zaxis\": {\"backgroundcolor\": \"#E5ECF6\", \"gridcolor\": \"white\", \"gridwidth\": 2, \"linecolor\": \"white\", \"showbackground\": true, \"ticks\": \"\", \"zerolinecolor\": \"white\"}}, \"shapedefaults\": {\"line\": {\"color\": \"#2a3f5f\"}}, \"ternary\": {\"aaxis\": {\"gridcolor\": \"white\", \"linecolor\": \"white\", \"ticks\": \"\"}, \"baxis\": {\"gridcolor\": \"white\", \"linecolor\": \"white\", \"ticks\": \"\"}, \"bgcolor\": \"#E5ECF6\", \"caxis\": {\"gridcolor\": \"white\", \"linecolor\": \"white\", \"ticks\": \"\"}}, \"title\": {\"x\": 0.05}, \"xaxis\": {\"automargin\": true, \"gridcolor\": \"white\", \"linecolor\": \"white\", \"ticks\": \"\", \"title\": {\"standoff\": 15}, \"zerolinecolor\": \"white\", \"zerolinewidth\": 2}, \"yaxis\": {\"automargin\": true, \"gridcolor\": \"white\", \"linecolor\": \"white\", \"ticks\": \"\", \"title\": {\"standoff\": 15}, \"zerolinecolor\": \"white\", \"zerolinewidth\": 2}}}, \"title\": {\"text\": \"Percepci\\u00f3n de seguridad de la ciudad estando en casa de mujeres entre 45 y 49 a\\u00f1os\"}},                        {\"responsive\": true}                    ).then(function(){\n",
       "                            \n",
       "var gd = document.getElementById('5385c41a-8f25-4602-ae59-7ea7cfed8ed0');\n",
       "var x = new MutationObserver(function (mutations, observer) {{\n",
       "        var display = window.getComputedStyle(gd).display;\n",
       "        if (!display || display === 'none') {{\n",
       "            console.log([gd, 'removed!']);\n",
       "            Plotly.purge(gd);\n",
       "            observer.disconnect();\n",
       "        }}\n",
       "}});\n",
       "\n",
       "// Listen for the removal of the full notebook cells\n",
       "var notebookContainer = gd.closest('#notebook-container');\n",
       "if (notebookContainer) {{\n",
       "    x.observe(notebookContainer, {childList: true});\n",
       "}}\n",
       "\n",
       "// Listen for the clearing of the current output cell\n",
       "var outputEl = gd.closest('.output');\n",
       "if (outputEl) {{\n",
       "    x.observe(outputEl, {childList: true});\n",
       "}}\n",
       "\n",
       "                        })                };                });            </script>        </div>"
      ]
     },
     "metadata": {},
     "output_type": "display_data"
    }
   ],
   "source": [
    "seg_home('45 to 49 years')"
   ]
  }
 ],
 "metadata": {
  "kernelspec": {
   "display_name": "Python 3",
   "language": "python",
   "name": "python3"
  },
  "language_info": {
   "codemirror_mode": {
    "name": "ipython",
    "version": 3
   },
   "file_extension": ".py",
   "mimetype": "text/x-python",
   "name": "python",
   "nbconvert_exporter": "python",
   "pygments_lexer": "ipython3",
   "version": "3.7.4"
  }
 },
 "nbformat": 4,
 "nbformat_minor": 2
}
