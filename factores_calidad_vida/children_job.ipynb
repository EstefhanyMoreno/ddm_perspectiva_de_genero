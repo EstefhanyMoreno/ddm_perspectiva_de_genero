{
 "cells": [
  {
   "cell_type": "code",
   "execution_count": 1,
   "metadata": {},
   "outputs": [],
   "source": [
    "import pandas as pd\n",
    "import requests\n",
    "import plotly.express as px\n",
    "import plotly.graph_objects as go"
   ]
  },
  {
   "cell_type": "code",
   "execution_count": 2,
   "metadata": {
    "scrolled": false
   },
   "outputs": [
    {
     "data": {
      "text/html": [
       "<div>\n",
       "<style scoped>\n",
       "    .dataframe tbody tr th:only-of-type {\n",
       "        vertical-align: middle;\n",
       "    }\n",
       "\n",
       "    .dataframe tbody tr th {\n",
       "        vertical-align: top;\n",
       "    }\n",
       "\n",
       "    .dataframe thead th {\n",
       "        text-align: right;\n",
       "    }\n",
       "</style>\n",
       "<table border=\"1\" class=\"dataframe\">\n",
       "  <thead>\n",
       "    <tr style=\"text-align: right;\">\n",
       "      <th></th>\n",
       "      <th>Female Population Older 15 With Children ID</th>\n",
       "      <th>Female Population Older 15 With Children</th>\n",
       "      <th>Job Situation ID</th>\n",
       "      <th>Job Situation</th>\n",
       "      <th>Schooling Years Range ID</th>\n",
       "      <th>Schooling Years Range</th>\n",
       "      <th>Workforce</th>\n",
       "    </tr>\n",
       "  </thead>\n",
       "  <tbody>\n",
       "    <tr>\n",
       "      <td>16</td>\n",
       "      <td>1</td>\n",
       "      <td>Without Children</td>\n",
       "      <td>1</td>\n",
       "      <td>Has a Job or a Business</td>\n",
       "      <td>1</td>\n",
       "      <td>0 to 3 Years of Schooling</td>\n",
       "      <td>42283</td>\n",
       "    </tr>\n",
       "    <tr>\n",
       "      <td>17</td>\n",
       "      <td>1</td>\n",
       "      <td>Without Children</td>\n",
       "      <td>1</td>\n",
       "      <td>Has a Job or a Business</td>\n",
       "      <td>2</td>\n",
       "      <td>4 to 6 Years of Schooling</td>\n",
       "      <td>262930</td>\n",
       "    </tr>\n",
       "    <tr>\n",
       "      <td>18</td>\n",
       "      <td>1</td>\n",
       "      <td>Without Children</td>\n",
       "      <td>1</td>\n",
       "      <td>Has a Job or a Business</td>\n",
       "      <td>3</td>\n",
       "      <td>7 to 9 Years of Schooling</td>\n",
       "      <td>905341</td>\n",
       "    </tr>\n",
       "    <tr>\n",
       "      <td>19</td>\n",
       "      <td>1</td>\n",
       "      <td>Without Children</td>\n",
       "      <td>1</td>\n",
       "      <td>Has a Job or a Business</td>\n",
       "      <td>4</td>\n",
       "      <td>10 to 12 Years of Schooling</td>\n",
       "      <td>1588460</td>\n",
       "    </tr>\n",
       "    <tr>\n",
       "      <td>20</td>\n",
       "      <td>1</td>\n",
       "      <td>Without Children</td>\n",
       "      <td>1</td>\n",
       "      <td>Has a Job or a Business</td>\n",
       "      <td>5</td>\n",
       "      <td>13 to 15 Years of Schooling</td>\n",
       "      <td>535230</td>\n",
       "    </tr>\n",
       "  </tbody>\n",
       "</table>\n",
       "</div>"
      ],
      "text/plain": [
       "    Female Population Older 15 With Children ID  \\\n",
       "16                                            1   \n",
       "17                                            1   \n",
       "18                                            1   \n",
       "19                                            1   \n",
       "20                                            1   \n",
       "\n",
       "   Female Population Older 15 With Children  Job Situation ID  \\\n",
       "16                         Without Children                 1   \n",
       "17                         Without Children                 1   \n",
       "18                         Without Children                 1   \n",
       "19                         Without Children                 1   \n",
       "20                         Without Children                 1   \n",
       "\n",
       "              Job Situation  Schooling Years Range ID  \\\n",
       "16  Has a Job or a Business                         1   \n",
       "17  Has a Job or a Business                         2   \n",
       "18  Has a Job or a Business                         3   \n",
       "19  Has a Job or a Business                         4   \n",
       "20  Has a Job or a Business                         5   \n",
       "\n",
       "          Schooling Years Range  Workforce  \n",
       "16    0 to 3 Years of Schooling      42283  \n",
       "17    4 to 6 Years of Schooling     262930  \n",
       "18    7 to 9 Years of Schooling     905341  \n",
       "19  10 to 12 Years of Schooling    1588460  \n",
       "20  13 to 15 Years of Schooling     535230  "
      ]
     },
     "execution_count": 2,
     "metadata": {},
     "output_type": "execute_result"
    }
   ],
   "source": [
    "url_s='https://api.datamexico.org/tesseract/data.jsonrecords?cube=inegi_etoe&drilldowns=Female+Population+Older+15+With+Children%2CJob+Situation%2CSchooling+Years+Range&measures=Workforce&parents=false&sparse=false'\n",
    "data_s= requests.get(url_s)\n",
    "df_s=pd.DataFrame(data_s.json()['data'])\n",
    "df_s.drop([ 0,  1,  2,  3,  4,  5,  6,  7,  8,  9, 10, 11, 12, 13, 14, 15, 23,\n",
    "            31, 39, 47, 55, 63, 70, 77,78, 79], inplace= True)\n",
    "df_s.head()"
   ]
  },
  {
   "cell_type": "code",
   "execution_count": 4,
   "metadata": {
    "scrolled": false
   },
   "outputs": [
    {
     "data": {
      "text/plain": [
       "Index(['Female Population Older 15 With Children ID',\n",
       "       'Female Population Older 15 With Children', 'Job Situation ID',\n",
       "       'Job Situation', 'Schooling Years Range ID', 'Schooling Years Range',\n",
       "       'Workforce'],\n",
       "      dtype='object')"
      ]
     },
     "execution_count": 4,
     "metadata": {},
     "output_type": "execute_result"
    }
   ],
   "source": [
    "df_s.columns"
   ]
  },
  {
   "cell_type": "code",
   "execution_count": 3,
   "metadata": {},
   "outputs": [
    {
     "data": {
      "text/plain": [
       "array(['Without Children', 'From 1 to 2 Children', 'From 3 to 5 Children',\n",
       "       'From 6 and more Children'], dtype=object)"
      ]
     },
     "execution_count": 3,
     "metadata": {},
     "output_type": "execute_result"
    }
   ],
   "source": [
    "df_s['Female Population Older 15 With Children'].unique()"
   ]
  },
  {
   "cell_type": "code",
   "execution_count": 4,
   "metadata": {
    "scrolled": true
   },
   "outputs": [
    {
     "data": {
      "text/plain": [
       "array(['0 to 3 Years of Schooling', '4 to 6 Years of Schooling',\n",
       "       '7 to 9 Years of Schooling', '10 to 12 Years of Schooling',\n",
       "       '13 to 15 Years of Schooling', '16 to 18 Years of Schooling',\n",
       "       'More than 18 Years of Schooling'], dtype=object)"
      ]
     },
     "execution_count": 4,
     "metadata": {},
     "output_type": "execute_result"
    }
   ],
   "source": [
    "df_s['Schooling Years Range'].unique()"
   ]
  },
  {
   "cell_type": "code",
   "execution_count": 12,
   "metadata": {},
   "outputs": [],
   "source": [
    "df_f15= pd.read_csv('Female Population Older 15 With Children-Schooling Years Range-Job Situation.csv')"
   ]
  },
  {
   "cell_type": "code",
   "execution_count": 21,
   "metadata": {},
   "outputs": [
    {
     "data": {
      "text/html": [
       "<div>\n",
       "<style scoped>\n",
       "    .dataframe tbody tr th:only-of-type {\n",
       "        vertical-align: middle;\n",
       "    }\n",
       "\n",
       "    .dataframe tbody tr th {\n",
       "        vertical-align: top;\n",
       "    }\n",
       "\n",
       "    .dataframe thead th {\n",
       "        text-align: right;\n",
       "    }\n",
       "</style>\n",
       "<table border=\"1\" class=\"dataframe\">\n",
       "  <thead>\n",
       "    <tr style=\"text-align: right;\">\n",
       "      <th></th>\n",
       "      <th>Female Population Older 15 With Children ID</th>\n",
       "      <th>Female Population Older 15 With Children</th>\n",
       "      <th>Schooling Years Range ID</th>\n",
       "      <th>Schooling Years Range</th>\n",
       "      <th>Sex ID</th>\n",
       "      <th>Sex</th>\n",
       "      <th>Job Situation ID</th>\n",
       "      <th>Job Situation</th>\n",
       "      <th>Workforce</th>\n",
       "    </tr>\n",
       "  </thead>\n",
       "  <tbody>\n",
       "    <tr>\n",
       "      <td>0</td>\n",
       "      <td>0</td>\n",
       "      <td>No Aplica</td>\n",
       "      <td>1</td>\n",
       "      <td>0 a 3 Años de Escolaridad</td>\n",
       "      <td>1</td>\n",
       "      <td>Hombre</td>\n",
       "      <td>1</td>\n",
       "      <td>Posee un Trabajo o Negocio</td>\n",
       "      <td>1430343</td>\n",
       "    </tr>\n",
       "    <tr>\n",
       "      <td>1</td>\n",
       "      <td>0</td>\n",
       "      <td>No Aplica</td>\n",
       "      <td>1</td>\n",
       "      <td>0 a 3 Años de Escolaridad</td>\n",
       "      <td>1</td>\n",
       "      <td>Hombre</td>\n",
       "      <td>2</td>\n",
       "      <td>No</td>\n",
       "      <td>5371335</td>\n",
       "    </tr>\n",
       "    <tr>\n",
       "      <td>2</td>\n",
       "      <td>0</td>\n",
       "      <td>No Aplica</td>\n",
       "      <td>2</td>\n",
       "      <td>4 a 6 Años de Escolaridad</td>\n",
       "      <td>1</td>\n",
       "      <td>Hombre</td>\n",
       "      <td>1</td>\n",
       "      <td>Posee un Trabajo o Negocio</td>\n",
       "      <td>4615177</td>\n",
       "    </tr>\n",
       "    <tr>\n",
       "      <td>3</td>\n",
       "      <td>0</td>\n",
       "      <td>No Aplica</td>\n",
       "      <td>2</td>\n",
       "      <td>4 a 6 Años de Escolaridad</td>\n",
       "      <td>1</td>\n",
       "      <td>Hombre</td>\n",
       "      <td>2</td>\n",
       "      <td>No</td>\n",
       "      <td>6386799</td>\n",
       "    </tr>\n",
       "    <tr>\n",
       "      <td>4</td>\n",
       "      <td>0</td>\n",
       "      <td>No Aplica</td>\n",
       "      <td>3</td>\n",
       "      <td>7 a 9 Años de Escolaridad</td>\n",
       "      <td>1</td>\n",
       "      <td>Hombre</td>\n",
       "      <td>1</td>\n",
       "      <td>Posee un Trabajo o Negocio</td>\n",
       "      <td>7571867</td>\n",
       "    </tr>\n",
       "    <tr>\n",
       "      <td>...</td>\n",
       "      <td>...</td>\n",
       "      <td>...</td>\n",
       "      <td>...</td>\n",
       "      <td>...</td>\n",
       "      <td>...</td>\n",
       "      <td>...</td>\n",
       "      <td>...</td>\n",
       "      <td>...</td>\n",
       "      <td>...</td>\n",
       "    </tr>\n",
       "    <tr>\n",
       "      <td>75</td>\n",
       "      <td>4</td>\n",
       "      <td>De 6 Hijos y más</td>\n",
       "      <td>6</td>\n",
       "      <td>16 a 18 Años de Escolaridad</td>\n",
       "      <td>2</td>\n",
       "      <td>Mujer</td>\n",
       "      <td>2</td>\n",
       "      <td>No</td>\n",
       "      <td>13293</td>\n",
       "    </tr>\n",
       "    <tr>\n",
       "      <td>76</td>\n",
       "      <td>4</td>\n",
       "      <td>De 6 Hijos y más</td>\n",
       "      <td>8</td>\n",
       "      <td>No Especificado</td>\n",
       "      <td>2</td>\n",
       "      <td>Mujer</td>\n",
       "      <td>1</td>\n",
       "      <td>Posee un Trabajo o Negocio</td>\n",
       "      <td>19638</td>\n",
       "    </tr>\n",
       "    <tr>\n",
       "      <td>77</td>\n",
       "      <td>4</td>\n",
       "      <td>De 6 Hijos y más</td>\n",
       "      <td>8</td>\n",
       "      <td>No Especificado</td>\n",
       "      <td>2</td>\n",
       "      <td>Mujer</td>\n",
       "      <td>2</td>\n",
       "      <td>No</td>\n",
       "      <td>57422</td>\n",
       "    </tr>\n",
       "    <tr>\n",
       "      <td>78</td>\n",
       "      <td>5</td>\n",
       "      <td>No Especificado</td>\n",
       "      <td>6</td>\n",
       "      <td>16 a 18 Años de Escolaridad</td>\n",
       "      <td>2</td>\n",
       "      <td>Mujer</td>\n",
       "      <td>2</td>\n",
       "      <td>No</td>\n",
       "      <td>523</td>\n",
       "    </tr>\n",
       "    <tr>\n",
       "      <td>79</td>\n",
       "      <td>5</td>\n",
       "      <td>No Especificado</td>\n",
       "      <td>8</td>\n",
       "      <td>No Especificado</td>\n",
       "      <td>2</td>\n",
       "      <td>Mujer</td>\n",
       "      <td>2</td>\n",
       "      <td>No</td>\n",
       "      <td>105</td>\n",
       "    </tr>\n",
       "  </tbody>\n",
       "</table>\n",
       "<p>80 rows × 9 columns</p>\n",
       "</div>"
      ],
      "text/plain": [
       "    Female Population Older 15 With Children ID  \\\n",
       "0                                             0   \n",
       "1                                             0   \n",
       "2                                             0   \n",
       "3                                             0   \n",
       "4                                             0   \n",
       "..                                          ...   \n",
       "75                                            4   \n",
       "76                                            4   \n",
       "77                                            4   \n",
       "78                                            5   \n",
       "79                                            5   \n",
       "\n",
       "   Female Population Older 15 With Children  Schooling Years Range ID  \\\n",
       "0                                 No Aplica                         1   \n",
       "1                                 No Aplica                         1   \n",
       "2                                 No Aplica                         2   \n",
       "3                                 No Aplica                         2   \n",
       "4                                 No Aplica                         3   \n",
       "..                                      ...                       ...   \n",
       "75                         De 6 Hijos y más                         6   \n",
       "76                         De 6 Hijos y más                         8   \n",
       "77                         De 6 Hijos y más                         8   \n",
       "78                          No Especificado                         6   \n",
       "79                          No Especificado                         8   \n",
       "\n",
       "          Schooling Years Range  Sex ID     Sex  Job Situation ID  \\\n",
       "0     0 a 3 Años de Escolaridad       1  Hombre                 1   \n",
       "1     0 a 3 Años de Escolaridad       1  Hombre                 2   \n",
       "2     4 a 6 Años de Escolaridad       1  Hombre                 1   \n",
       "3     4 a 6 Años de Escolaridad       1  Hombre                 2   \n",
       "4     7 a 9 Años de Escolaridad       1  Hombre                 1   \n",
       "..                          ...     ...     ...               ...   \n",
       "75  16 a 18 Años de Escolaridad       2   Mujer                 2   \n",
       "76              No Especificado       2   Mujer                 1   \n",
       "77              No Especificado       2   Mujer                 2   \n",
       "78  16 a 18 Años de Escolaridad       2   Mujer                 2   \n",
       "79              No Especificado       2   Mujer                 2   \n",
       "\n",
       "                 Job Situation  Workforce  \n",
       "0   Posee un Trabajo o Negocio    1430343  \n",
       "1                           No    5371335  \n",
       "2   Posee un Trabajo o Negocio    4615177  \n",
       "3                           No    6386799  \n",
       "4   Posee un Trabajo o Negocio    7571867  \n",
       "..                         ...        ...  \n",
       "75                          No      13293  \n",
       "76  Posee un Trabajo o Negocio      19638  \n",
       "77                          No      57422  \n",
       "78                          No        523  \n",
       "79                          No        105  \n",
       "\n",
       "[80 rows x 9 columns]"
      ]
     },
     "execution_count": 21,
     "metadata": {},
     "output_type": "execute_result"
    }
   ],
   "source": [
    "df_f15"
   ]
  },
  {
   "cell_type": "code",
   "execution_count": 22,
   "metadata": {
    "scrolled": true
   },
   "outputs": [
    {
     "data": {
      "text/html": [
       "<div>\n",
       "<style scoped>\n",
       "    .dataframe tbody tr th:only-of-type {\n",
       "        vertical-align: middle;\n",
       "    }\n",
       "\n",
       "    .dataframe tbody tr th {\n",
       "        vertical-align: top;\n",
       "    }\n",
       "\n",
       "    .dataframe thead th {\n",
       "        text-align: right;\n",
       "    }\n",
       "</style>\n",
       "<table border=\"1\" class=\"dataframe\">\n",
       "  <thead>\n",
       "    <tr style=\"text-align: right;\">\n",
       "      <th></th>\n",
       "      <th>Female Population Older 15 With Children ID</th>\n",
       "      <th>Female Population Older 15 With Children</th>\n",
       "      <th>Schooling Years Range ID</th>\n",
       "      <th>Schooling Years Range</th>\n",
       "      <th>Sex ID</th>\n",
       "      <th>Sex</th>\n",
       "      <th>Job Situation ID</th>\n",
       "      <th>Job Situation</th>\n",
       "      <th>Workforce</th>\n",
       "    </tr>\n",
       "  </thead>\n",
       "  <tbody>\n",
       "    <tr>\n",
       "      <td>0</td>\n",
       "      <td>0</td>\n",
       "      <td>No Aplica</td>\n",
       "      <td>1</td>\n",
       "      <td>0 a 3 Años de Escolaridad</td>\n",
       "      <td>1</td>\n",
       "      <td>Hombre</td>\n",
       "      <td>1</td>\n",
       "      <td>Posee un Trabajo o Negocio</td>\n",
       "      <td>1430343</td>\n",
       "    </tr>\n",
       "    <tr>\n",
       "      <td>1</td>\n",
       "      <td>0</td>\n",
       "      <td>No Aplica</td>\n",
       "      <td>1</td>\n",
       "      <td>0 a 3 Años de Escolaridad</td>\n",
       "      <td>1</td>\n",
       "      <td>Hombre</td>\n",
       "      <td>2</td>\n",
       "      <td>No</td>\n",
       "      <td>5371335</td>\n",
       "    </tr>\n",
       "    <tr>\n",
       "      <td>16</td>\n",
       "      <td>1</td>\n",
       "      <td>Sin Hijos</td>\n",
       "      <td>1</td>\n",
       "      <td>0 a 3 Años de Escolaridad</td>\n",
       "      <td>2</td>\n",
       "      <td>Mujer</td>\n",
       "      <td>1</td>\n",
       "      <td>Posee un Trabajo o Negocio</td>\n",
       "      <td>42283</td>\n",
       "    </tr>\n",
       "    <tr>\n",
       "      <td>17</td>\n",
       "      <td>1</td>\n",
       "      <td>Sin Hijos</td>\n",
       "      <td>1</td>\n",
       "      <td>0 a 3 Años de Escolaridad</td>\n",
       "      <td>2</td>\n",
       "      <td>Mujer</td>\n",
       "      <td>2</td>\n",
       "      <td>No</td>\n",
       "      <td>1618836</td>\n",
       "    </tr>\n",
       "    <tr>\n",
       "      <td>32</td>\n",
       "      <td>2</td>\n",
       "      <td>De 1 a 2 Hijos</td>\n",
       "      <td>1</td>\n",
       "      <td>0 a 3 Años de Escolaridad</td>\n",
       "      <td>2</td>\n",
       "      <td>Mujer</td>\n",
       "      <td>1</td>\n",
       "      <td>Posee un Trabajo o Negocio</td>\n",
       "      <td>213512</td>\n",
       "    </tr>\n",
       "    <tr>\n",
       "      <td>33</td>\n",
       "      <td>2</td>\n",
       "      <td>De 1 a 2 Hijos</td>\n",
       "      <td>1</td>\n",
       "      <td>0 a 3 Años de Escolaridad</td>\n",
       "      <td>2</td>\n",
       "      <td>Mujer</td>\n",
       "      <td>2</td>\n",
       "      <td>No</td>\n",
       "      <td>1256867</td>\n",
       "    </tr>\n",
       "    <tr>\n",
       "      <td>48</td>\n",
       "      <td>3</td>\n",
       "      <td>De 3 a 5 Hijos</td>\n",
       "      <td>1</td>\n",
       "      <td>0 a 3 Años de Escolaridad</td>\n",
       "      <td>2</td>\n",
       "      <td>Mujer</td>\n",
       "      <td>1</td>\n",
       "      <td>Posee un Trabajo o Negocio</td>\n",
       "      <td>475911</td>\n",
       "    </tr>\n",
       "    <tr>\n",
       "      <td>49</td>\n",
       "      <td>3</td>\n",
       "      <td>De 3 a 5 Hijos</td>\n",
       "      <td>1</td>\n",
       "      <td>0 a 3 Años de Escolaridad</td>\n",
       "      <td>2</td>\n",
       "      <td>Mujer</td>\n",
       "      <td>2</td>\n",
       "      <td>No</td>\n",
       "      <td>3366452</td>\n",
       "    </tr>\n",
       "    <tr>\n",
       "      <td>64</td>\n",
       "      <td>4</td>\n",
       "      <td>De 6 Hijos y más</td>\n",
       "      <td>1</td>\n",
       "      <td>0 a 3 Años de Escolaridad</td>\n",
       "      <td>2</td>\n",
       "      <td>Mujer</td>\n",
       "      <td>1</td>\n",
       "      <td>Posee un Trabajo o Negocio</td>\n",
       "      <td>301555</td>\n",
       "    </tr>\n",
       "    <tr>\n",
       "      <td>65</td>\n",
       "      <td>4</td>\n",
       "      <td>De 6 Hijos y más</td>\n",
       "      <td>1</td>\n",
       "      <td>0 a 3 Años de Escolaridad</td>\n",
       "      <td>2</td>\n",
       "      <td>Mujer</td>\n",
       "      <td>2</td>\n",
       "      <td>No</td>\n",
       "      <td>4971899</td>\n",
       "    </tr>\n",
       "  </tbody>\n",
       "</table>\n",
       "</div>"
      ],
      "text/plain": [
       "    Female Population Older 15 With Children ID  \\\n",
       "0                                             0   \n",
       "1                                             0   \n",
       "16                                            1   \n",
       "17                                            1   \n",
       "32                                            2   \n",
       "33                                            2   \n",
       "48                                            3   \n",
       "49                                            3   \n",
       "64                                            4   \n",
       "65                                            4   \n",
       "\n",
       "   Female Population Older 15 With Children  Schooling Years Range ID  \\\n",
       "0                                 No Aplica                         1   \n",
       "1                                 No Aplica                         1   \n",
       "16                                Sin Hijos                         1   \n",
       "17                                Sin Hijos                         1   \n",
       "32                           De 1 a 2 Hijos                         1   \n",
       "33                           De 1 a 2 Hijos                         1   \n",
       "48                           De 3 a 5 Hijos                         1   \n",
       "49                           De 3 a 5 Hijos                         1   \n",
       "64                         De 6 Hijos y más                         1   \n",
       "65                         De 6 Hijos y más                         1   \n",
       "\n",
       "        Schooling Years Range  Sex ID     Sex  Job Situation ID  \\\n",
       "0   0 a 3 Años de Escolaridad       1  Hombre                 1   \n",
       "1   0 a 3 Años de Escolaridad       1  Hombre                 2   \n",
       "16  0 a 3 Años de Escolaridad       2   Mujer                 1   \n",
       "17  0 a 3 Años de Escolaridad       2   Mujer                 2   \n",
       "32  0 a 3 Años de Escolaridad       2   Mujer                 1   \n",
       "33  0 a 3 Años de Escolaridad       2   Mujer                 2   \n",
       "48  0 a 3 Años de Escolaridad       2   Mujer                 1   \n",
       "49  0 a 3 Años de Escolaridad       2   Mujer                 2   \n",
       "64  0 a 3 Años de Escolaridad       2   Mujer                 1   \n",
       "65  0 a 3 Años de Escolaridad       2   Mujer                 2   \n",
       "\n",
       "                 Job Situation  Workforce  \n",
       "0   Posee un Trabajo o Negocio    1430343  \n",
       "1                           No    5371335  \n",
       "16  Posee un Trabajo o Negocio      42283  \n",
       "17                          No    1618836  \n",
       "32  Posee un Trabajo o Negocio     213512  \n",
       "33                          No    1256867  \n",
       "48  Posee un Trabajo o Negocio     475911  \n",
       "49                          No    3366452  \n",
       "64  Posee un Trabajo o Negocio     301555  \n",
       "65                          No    4971899  "
      ]
     },
     "execution_count": 22,
     "metadata": {},
     "output_type": "execute_result"
    }
   ],
   "source": [
    "df_f15[df_f15['Schooling Years Range']=='0 a 3 Años de Escolaridad']"
   ]
  },
  {
   "cell_type": "code",
   "execution_count": 18,
   "metadata": {},
   "outputs": [],
   "source": [
    "def child_school(s_years):\n",
    "    dff= df_f15[df_f15['Schooling Years Range']==s_years]\n",
    "    fig = px.bar(dff, y='Workforce', x='Female Population Older 15 With Children', color='Job Situation', barmode='group', title=f\"Situación laboral de la población femenina mayor a 15 años con hijos y {s_years.split()[2]} años de educación\")\n",
    "    return fig"
   ]
  },
  {
   "cell_type": "code",
   "execution_count": 23,
   "metadata": {},
   "outputs": [
    {
     "data": {
      "application/vnd.plotly.v1+json": {
       "config": {
        "plotlyServerURL": "https://plot.ly"
       },
       "data": [
        {
         "alignmentgroup": "True",
         "hovertemplate": "Job Situation=Posee un Trabajo o Negocio<br>Female Population Older 15 With Children=%{x}<br>Workforce=%{y}<extra></extra>",
         "legendgroup": "Posee un Trabajo o Negocio",
         "marker": {
          "color": "#636efa"
         },
         "name": "Posee un Trabajo o Negocio",
         "offsetgroup": "Posee un Trabajo o Negocio",
         "orientation": "v",
         "showlegend": true,
         "textposition": "auto",
         "type": "bar",
         "x": [
          "No Aplica",
          "Sin Hijos",
          "De 1 a 2 Hijos",
          "De 3 a 5 Hijos",
          "De 6 Hijos y más"
         ],
         "xaxis": "x",
         "y": [
          1430343,
          42283,
          213512,
          475911,
          301555
         ],
         "yaxis": "y"
        },
        {
         "alignmentgroup": "True",
         "hovertemplate": "Job Situation=No<br>Female Population Older 15 With Children=%{x}<br>Workforce=%{y}<extra></extra>",
         "legendgroup": "No",
         "marker": {
          "color": "#EF553B"
         },
         "name": "No",
         "offsetgroup": "No",
         "orientation": "v",
         "showlegend": true,
         "textposition": "auto",
         "type": "bar",
         "x": [
          "No Aplica",
          "Sin Hijos",
          "De 1 a 2 Hijos",
          "De 3 a 5 Hijos",
          "De 6 Hijos y más"
         ],
         "xaxis": "x",
         "y": [
          5371335,
          1618836,
          1256867,
          3366452,
          4971899
         ],
         "yaxis": "y"
        }
       ],
       "layout": {
        "barmode": "group",
        "legend": {
         "title": {
          "text": "Job Situation"
         },
         "tracegroupgap": 0
        },
        "template": {
         "data": {
          "bar": [
           {
            "error_x": {
             "color": "#2a3f5f"
            },
            "error_y": {
             "color": "#2a3f5f"
            },
            "marker": {
             "line": {
              "color": "#E5ECF6",
              "width": 0.5
             }
            },
            "type": "bar"
           }
          ],
          "barpolar": [
           {
            "marker": {
             "line": {
              "color": "#E5ECF6",
              "width": 0.5
             }
            },
            "type": "barpolar"
           }
          ],
          "carpet": [
           {
            "aaxis": {
             "endlinecolor": "#2a3f5f",
             "gridcolor": "white",
             "linecolor": "white",
             "minorgridcolor": "white",
             "startlinecolor": "#2a3f5f"
            },
            "baxis": {
             "endlinecolor": "#2a3f5f",
             "gridcolor": "white",
             "linecolor": "white",
             "minorgridcolor": "white",
             "startlinecolor": "#2a3f5f"
            },
            "type": "carpet"
           }
          ],
          "choropleth": [
           {
            "colorbar": {
             "outlinewidth": 0,
             "ticks": ""
            },
            "type": "choropleth"
           }
          ],
          "contour": [
           {
            "colorbar": {
             "outlinewidth": 0,
             "ticks": ""
            },
            "colorscale": [
             [
              0,
              "#0d0887"
             ],
             [
              0.1111111111111111,
              "#46039f"
             ],
             [
              0.2222222222222222,
              "#7201a8"
             ],
             [
              0.3333333333333333,
              "#9c179e"
             ],
             [
              0.4444444444444444,
              "#bd3786"
             ],
             [
              0.5555555555555556,
              "#d8576b"
             ],
             [
              0.6666666666666666,
              "#ed7953"
             ],
             [
              0.7777777777777778,
              "#fb9f3a"
             ],
             [
              0.8888888888888888,
              "#fdca26"
             ],
             [
              1,
              "#f0f921"
             ]
            ],
            "type": "contour"
           }
          ],
          "contourcarpet": [
           {
            "colorbar": {
             "outlinewidth": 0,
             "ticks": ""
            },
            "type": "contourcarpet"
           }
          ],
          "heatmap": [
           {
            "colorbar": {
             "outlinewidth": 0,
             "ticks": ""
            },
            "colorscale": [
             [
              0,
              "#0d0887"
             ],
             [
              0.1111111111111111,
              "#46039f"
             ],
             [
              0.2222222222222222,
              "#7201a8"
             ],
             [
              0.3333333333333333,
              "#9c179e"
             ],
             [
              0.4444444444444444,
              "#bd3786"
             ],
             [
              0.5555555555555556,
              "#d8576b"
             ],
             [
              0.6666666666666666,
              "#ed7953"
             ],
             [
              0.7777777777777778,
              "#fb9f3a"
             ],
             [
              0.8888888888888888,
              "#fdca26"
             ],
             [
              1,
              "#f0f921"
             ]
            ],
            "type": "heatmap"
           }
          ],
          "heatmapgl": [
           {
            "colorbar": {
             "outlinewidth": 0,
             "ticks": ""
            },
            "colorscale": [
             [
              0,
              "#0d0887"
             ],
             [
              0.1111111111111111,
              "#46039f"
             ],
             [
              0.2222222222222222,
              "#7201a8"
             ],
             [
              0.3333333333333333,
              "#9c179e"
             ],
             [
              0.4444444444444444,
              "#bd3786"
             ],
             [
              0.5555555555555556,
              "#d8576b"
             ],
             [
              0.6666666666666666,
              "#ed7953"
             ],
             [
              0.7777777777777778,
              "#fb9f3a"
             ],
             [
              0.8888888888888888,
              "#fdca26"
             ],
             [
              1,
              "#f0f921"
             ]
            ],
            "type": "heatmapgl"
           }
          ],
          "histogram": [
           {
            "marker": {
             "colorbar": {
              "outlinewidth": 0,
              "ticks": ""
             }
            },
            "type": "histogram"
           }
          ],
          "histogram2d": [
           {
            "colorbar": {
             "outlinewidth": 0,
             "ticks": ""
            },
            "colorscale": [
             [
              0,
              "#0d0887"
             ],
             [
              0.1111111111111111,
              "#46039f"
             ],
             [
              0.2222222222222222,
              "#7201a8"
             ],
             [
              0.3333333333333333,
              "#9c179e"
             ],
             [
              0.4444444444444444,
              "#bd3786"
             ],
             [
              0.5555555555555556,
              "#d8576b"
             ],
             [
              0.6666666666666666,
              "#ed7953"
             ],
             [
              0.7777777777777778,
              "#fb9f3a"
             ],
             [
              0.8888888888888888,
              "#fdca26"
             ],
             [
              1,
              "#f0f921"
             ]
            ],
            "type": "histogram2d"
           }
          ],
          "histogram2dcontour": [
           {
            "colorbar": {
             "outlinewidth": 0,
             "ticks": ""
            },
            "colorscale": [
             [
              0,
              "#0d0887"
             ],
             [
              0.1111111111111111,
              "#46039f"
             ],
             [
              0.2222222222222222,
              "#7201a8"
             ],
             [
              0.3333333333333333,
              "#9c179e"
             ],
             [
              0.4444444444444444,
              "#bd3786"
             ],
             [
              0.5555555555555556,
              "#d8576b"
             ],
             [
              0.6666666666666666,
              "#ed7953"
             ],
             [
              0.7777777777777778,
              "#fb9f3a"
             ],
             [
              0.8888888888888888,
              "#fdca26"
             ],
             [
              1,
              "#f0f921"
             ]
            ],
            "type": "histogram2dcontour"
           }
          ],
          "mesh3d": [
           {
            "colorbar": {
             "outlinewidth": 0,
             "ticks": ""
            },
            "type": "mesh3d"
           }
          ],
          "parcoords": [
           {
            "line": {
             "colorbar": {
              "outlinewidth": 0,
              "ticks": ""
             }
            },
            "type": "parcoords"
           }
          ],
          "pie": [
           {
            "automargin": true,
            "type": "pie"
           }
          ],
          "scatter": [
           {
            "marker": {
             "colorbar": {
              "outlinewidth": 0,
              "ticks": ""
             }
            },
            "type": "scatter"
           }
          ],
          "scatter3d": [
           {
            "line": {
             "colorbar": {
              "outlinewidth": 0,
              "ticks": ""
             }
            },
            "marker": {
             "colorbar": {
              "outlinewidth": 0,
              "ticks": ""
             }
            },
            "type": "scatter3d"
           }
          ],
          "scattercarpet": [
           {
            "marker": {
             "colorbar": {
              "outlinewidth": 0,
              "ticks": ""
             }
            },
            "type": "scattercarpet"
           }
          ],
          "scattergeo": [
           {
            "marker": {
             "colorbar": {
              "outlinewidth": 0,
              "ticks": ""
             }
            },
            "type": "scattergeo"
           }
          ],
          "scattergl": [
           {
            "marker": {
             "colorbar": {
              "outlinewidth": 0,
              "ticks": ""
             }
            },
            "type": "scattergl"
           }
          ],
          "scattermapbox": [
           {
            "marker": {
             "colorbar": {
              "outlinewidth": 0,
              "ticks": ""
             }
            },
            "type": "scattermapbox"
           }
          ],
          "scatterpolar": [
           {
            "marker": {
             "colorbar": {
              "outlinewidth": 0,
              "ticks": ""
             }
            },
            "type": "scatterpolar"
           }
          ],
          "scatterpolargl": [
           {
            "marker": {
             "colorbar": {
              "outlinewidth": 0,
              "ticks": ""
             }
            },
            "type": "scatterpolargl"
           }
          ],
          "scatterternary": [
           {
            "marker": {
             "colorbar": {
              "outlinewidth": 0,
              "ticks": ""
             }
            },
            "type": "scatterternary"
           }
          ],
          "surface": [
           {
            "colorbar": {
             "outlinewidth": 0,
             "ticks": ""
            },
            "colorscale": [
             [
              0,
              "#0d0887"
             ],
             [
              0.1111111111111111,
              "#46039f"
             ],
             [
              0.2222222222222222,
              "#7201a8"
             ],
             [
              0.3333333333333333,
              "#9c179e"
             ],
             [
              0.4444444444444444,
              "#bd3786"
             ],
             [
              0.5555555555555556,
              "#d8576b"
             ],
             [
              0.6666666666666666,
              "#ed7953"
             ],
             [
              0.7777777777777778,
              "#fb9f3a"
             ],
             [
              0.8888888888888888,
              "#fdca26"
             ],
             [
              1,
              "#f0f921"
             ]
            ],
            "type": "surface"
           }
          ],
          "table": [
           {
            "cells": {
             "fill": {
              "color": "#EBF0F8"
             },
             "line": {
              "color": "white"
             }
            },
            "header": {
             "fill": {
              "color": "#C8D4E3"
             },
             "line": {
              "color": "white"
             }
            },
            "type": "table"
           }
          ]
         },
         "layout": {
          "annotationdefaults": {
           "arrowcolor": "#2a3f5f",
           "arrowhead": 0,
           "arrowwidth": 1
          },
          "coloraxis": {
           "colorbar": {
            "outlinewidth": 0,
            "ticks": ""
           }
          },
          "colorscale": {
           "diverging": [
            [
             0,
             "#8e0152"
            ],
            [
             0.1,
             "#c51b7d"
            ],
            [
             0.2,
             "#de77ae"
            ],
            [
             0.3,
             "#f1b6da"
            ],
            [
             0.4,
             "#fde0ef"
            ],
            [
             0.5,
             "#f7f7f7"
            ],
            [
             0.6,
             "#e6f5d0"
            ],
            [
             0.7,
             "#b8e186"
            ],
            [
             0.8,
             "#7fbc41"
            ],
            [
             0.9,
             "#4d9221"
            ],
            [
             1,
             "#276419"
            ]
           ],
           "sequential": [
            [
             0,
             "#0d0887"
            ],
            [
             0.1111111111111111,
             "#46039f"
            ],
            [
             0.2222222222222222,
             "#7201a8"
            ],
            [
             0.3333333333333333,
             "#9c179e"
            ],
            [
             0.4444444444444444,
             "#bd3786"
            ],
            [
             0.5555555555555556,
             "#d8576b"
            ],
            [
             0.6666666666666666,
             "#ed7953"
            ],
            [
             0.7777777777777778,
             "#fb9f3a"
            ],
            [
             0.8888888888888888,
             "#fdca26"
            ],
            [
             1,
             "#f0f921"
            ]
           ],
           "sequentialminus": [
            [
             0,
             "#0d0887"
            ],
            [
             0.1111111111111111,
             "#46039f"
            ],
            [
             0.2222222222222222,
             "#7201a8"
            ],
            [
             0.3333333333333333,
             "#9c179e"
            ],
            [
             0.4444444444444444,
             "#bd3786"
            ],
            [
             0.5555555555555556,
             "#d8576b"
            ],
            [
             0.6666666666666666,
             "#ed7953"
            ],
            [
             0.7777777777777778,
             "#fb9f3a"
            ],
            [
             0.8888888888888888,
             "#fdca26"
            ],
            [
             1,
             "#f0f921"
            ]
           ]
          },
          "colorway": [
           "#636efa",
           "#EF553B",
           "#00cc96",
           "#ab63fa",
           "#FFA15A",
           "#19d3f3",
           "#FF6692",
           "#B6E880",
           "#FF97FF",
           "#FECB52"
          ],
          "font": {
           "color": "#2a3f5f"
          },
          "geo": {
           "bgcolor": "white",
           "lakecolor": "white",
           "landcolor": "#E5ECF6",
           "showlakes": true,
           "showland": true,
           "subunitcolor": "white"
          },
          "hoverlabel": {
           "align": "left"
          },
          "hovermode": "closest",
          "mapbox": {
           "style": "light"
          },
          "paper_bgcolor": "white",
          "plot_bgcolor": "#E5ECF6",
          "polar": {
           "angularaxis": {
            "gridcolor": "white",
            "linecolor": "white",
            "ticks": ""
           },
           "bgcolor": "#E5ECF6",
           "radialaxis": {
            "gridcolor": "white",
            "linecolor": "white",
            "ticks": ""
           }
          },
          "scene": {
           "xaxis": {
            "backgroundcolor": "#E5ECF6",
            "gridcolor": "white",
            "gridwidth": 2,
            "linecolor": "white",
            "showbackground": true,
            "ticks": "",
            "zerolinecolor": "white"
           },
           "yaxis": {
            "backgroundcolor": "#E5ECF6",
            "gridcolor": "white",
            "gridwidth": 2,
            "linecolor": "white",
            "showbackground": true,
            "ticks": "",
            "zerolinecolor": "white"
           },
           "zaxis": {
            "backgroundcolor": "#E5ECF6",
            "gridcolor": "white",
            "gridwidth": 2,
            "linecolor": "white",
            "showbackground": true,
            "ticks": "",
            "zerolinecolor": "white"
           }
          },
          "shapedefaults": {
           "line": {
            "color": "#2a3f5f"
           }
          },
          "ternary": {
           "aaxis": {
            "gridcolor": "white",
            "linecolor": "white",
            "ticks": ""
           },
           "baxis": {
            "gridcolor": "white",
            "linecolor": "white",
            "ticks": ""
           },
           "bgcolor": "#E5ECF6",
           "caxis": {
            "gridcolor": "white",
            "linecolor": "white",
            "ticks": ""
           }
          },
          "title": {
           "x": 0.05
          },
          "xaxis": {
           "automargin": true,
           "gridcolor": "white",
           "linecolor": "white",
           "ticks": "",
           "title": {
            "standoff": 15
           },
           "zerolinecolor": "white",
           "zerolinewidth": 2
          },
          "yaxis": {
           "automargin": true,
           "gridcolor": "white",
           "linecolor": "white",
           "ticks": "",
           "title": {
            "standoff": 15
           },
           "zerolinecolor": "white",
           "zerolinewidth": 2
          }
         }
        },
        "title": {
         "text": "Situación laboral de la población femenina mayor a 15 años con hijos y 3 años de educación"
        },
        "xaxis": {
         "anchor": "y",
         "domain": [
          0,
          1
         ],
         "title": {
          "text": "Female Population Older 15 With Children"
         }
        },
        "yaxis": {
         "anchor": "x",
         "domain": [
          0,
          1
         ],
         "title": {
          "text": "Workforce"
         }
        }
       }
      },
      "text/html": [
       "<div>                            <div id=\"c5946152-b254-4c72-81e4-f367a48d6803\" class=\"plotly-graph-div\" style=\"height:525px; width:100%;\"></div>            <script type=\"text/javascript\">                require([\"plotly\"], function(Plotly) {                    window.PLOTLYENV=window.PLOTLYENV || {};                                    if (document.getElementById(\"c5946152-b254-4c72-81e4-f367a48d6803\")) {                    Plotly.newPlot(                        \"c5946152-b254-4c72-81e4-f367a48d6803\",                        [{\"alignmentgroup\": \"True\", \"hovertemplate\": \"Job Situation=Posee un Trabajo o Negocio<br>Female Population Older 15 With Children=%{x}<br>Workforce=%{y}<extra></extra>\", \"legendgroup\": \"Posee un Trabajo o Negocio\", \"marker\": {\"color\": \"#636efa\"}, \"name\": \"Posee un Trabajo o Negocio\", \"offsetgroup\": \"Posee un Trabajo o Negocio\", \"orientation\": \"v\", \"showlegend\": true, \"textposition\": \"auto\", \"type\": \"bar\", \"x\": [\"No Aplica\", \"Sin Hijos\", \"De 1 a 2 Hijos\", \"De 3 a 5 Hijos\", \"De 6 Hijos y m\\u00e1s\"], \"xaxis\": \"x\", \"y\": [1430343, 42283, 213512, 475911, 301555], \"yaxis\": \"y\"}, {\"alignmentgroup\": \"True\", \"hovertemplate\": \"Job Situation=No<br>Female Population Older 15 With Children=%{x}<br>Workforce=%{y}<extra></extra>\", \"legendgroup\": \"No\", \"marker\": {\"color\": \"#EF553B\"}, \"name\": \"No\", \"offsetgroup\": \"No\", \"orientation\": \"v\", \"showlegend\": true, \"textposition\": \"auto\", \"type\": \"bar\", \"x\": [\"No Aplica\", \"Sin Hijos\", \"De 1 a 2 Hijos\", \"De 3 a 5 Hijos\", \"De 6 Hijos y m\\u00e1s\"], \"xaxis\": \"x\", \"y\": [5371335, 1618836, 1256867, 3366452, 4971899], \"yaxis\": \"y\"}],                        {\"barmode\": \"group\", \"legend\": {\"title\": {\"text\": \"Job Situation\"}, \"tracegroupgap\": 0}, \"template\": {\"data\": {\"bar\": [{\"error_x\": {\"color\": \"#2a3f5f\"}, \"error_y\": {\"color\": \"#2a3f5f\"}, \"marker\": {\"line\": {\"color\": \"#E5ECF6\", \"width\": 0.5}}, \"type\": \"bar\"}], \"barpolar\": [{\"marker\": {\"line\": {\"color\": \"#E5ECF6\", \"width\": 0.5}}, \"type\": \"barpolar\"}], \"carpet\": [{\"aaxis\": {\"endlinecolor\": \"#2a3f5f\", \"gridcolor\": \"white\", \"linecolor\": \"white\", \"minorgridcolor\": \"white\", \"startlinecolor\": \"#2a3f5f\"}, \"baxis\": {\"endlinecolor\": \"#2a3f5f\", \"gridcolor\": \"white\", \"linecolor\": \"white\", \"minorgridcolor\": \"white\", \"startlinecolor\": \"#2a3f5f\"}, \"type\": \"carpet\"}], \"choropleth\": [{\"colorbar\": {\"outlinewidth\": 0, \"ticks\": \"\"}, \"type\": \"choropleth\"}], \"contour\": [{\"colorbar\": {\"outlinewidth\": 0, \"ticks\": \"\"}, \"colorscale\": [[0.0, \"#0d0887\"], [0.1111111111111111, \"#46039f\"], [0.2222222222222222, \"#7201a8\"], [0.3333333333333333, \"#9c179e\"], [0.4444444444444444, \"#bd3786\"], [0.5555555555555556, \"#d8576b\"], [0.6666666666666666, \"#ed7953\"], [0.7777777777777778, \"#fb9f3a\"], [0.8888888888888888, \"#fdca26\"], [1.0, \"#f0f921\"]], \"type\": \"contour\"}], \"contourcarpet\": [{\"colorbar\": {\"outlinewidth\": 0, \"ticks\": \"\"}, \"type\": \"contourcarpet\"}], \"heatmap\": [{\"colorbar\": {\"outlinewidth\": 0, \"ticks\": \"\"}, \"colorscale\": [[0.0, \"#0d0887\"], [0.1111111111111111, \"#46039f\"], [0.2222222222222222, \"#7201a8\"], [0.3333333333333333, \"#9c179e\"], [0.4444444444444444, \"#bd3786\"], [0.5555555555555556, \"#d8576b\"], [0.6666666666666666, \"#ed7953\"], [0.7777777777777778, \"#fb9f3a\"], [0.8888888888888888, \"#fdca26\"], [1.0, \"#f0f921\"]], \"type\": \"heatmap\"}], \"heatmapgl\": [{\"colorbar\": {\"outlinewidth\": 0, \"ticks\": \"\"}, \"colorscale\": [[0.0, \"#0d0887\"], [0.1111111111111111, \"#46039f\"], [0.2222222222222222, \"#7201a8\"], [0.3333333333333333, \"#9c179e\"], [0.4444444444444444, \"#bd3786\"], [0.5555555555555556, \"#d8576b\"], [0.6666666666666666, \"#ed7953\"], [0.7777777777777778, \"#fb9f3a\"], [0.8888888888888888, \"#fdca26\"], [1.0, \"#f0f921\"]], \"type\": \"heatmapgl\"}], \"histogram\": [{\"marker\": {\"colorbar\": {\"outlinewidth\": 0, \"ticks\": \"\"}}, \"type\": \"histogram\"}], \"histogram2d\": [{\"colorbar\": {\"outlinewidth\": 0, \"ticks\": \"\"}, \"colorscale\": [[0.0, \"#0d0887\"], [0.1111111111111111, \"#46039f\"], [0.2222222222222222, \"#7201a8\"], [0.3333333333333333, \"#9c179e\"], [0.4444444444444444, \"#bd3786\"], [0.5555555555555556, \"#d8576b\"], [0.6666666666666666, \"#ed7953\"], [0.7777777777777778, \"#fb9f3a\"], [0.8888888888888888, \"#fdca26\"], [1.0, \"#f0f921\"]], \"type\": \"histogram2d\"}], \"histogram2dcontour\": [{\"colorbar\": {\"outlinewidth\": 0, \"ticks\": \"\"}, \"colorscale\": [[0.0, \"#0d0887\"], [0.1111111111111111, \"#46039f\"], [0.2222222222222222, \"#7201a8\"], [0.3333333333333333, \"#9c179e\"], [0.4444444444444444, \"#bd3786\"], [0.5555555555555556, \"#d8576b\"], [0.6666666666666666, \"#ed7953\"], [0.7777777777777778, \"#fb9f3a\"], [0.8888888888888888, \"#fdca26\"], [1.0, \"#f0f921\"]], \"type\": \"histogram2dcontour\"}], \"mesh3d\": [{\"colorbar\": {\"outlinewidth\": 0, \"ticks\": \"\"}, \"type\": \"mesh3d\"}], \"parcoords\": [{\"line\": {\"colorbar\": {\"outlinewidth\": 0, \"ticks\": \"\"}}, \"type\": \"parcoords\"}], \"pie\": [{\"automargin\": true, \"type\": \"pie\"}], \"scatter\": [{\"marker\": {\"colorbar\": {\"outlinewidth\": 0, \"ticks\": \"\"}}, \"type\": \"scatter\"}], \"scatter3d\": [{\"line\": {\"colorbar\": {\"outlinewidth\": 0, \"ticks\": \"\"}}, \"marker\": {\"colorbar\": {\"outlinewidth\": 0, \"ticks\": \"\"}}, \"type\": \"scatter3d\"}], \"scattercarpet\": [{\"marker\": {\"colorbar\": {\"outlinewidth\": 0, \"ticks\": \"\"}}, \"type\": \"scattercarpet\"}], \"scattergeo\": [{\"marker\": {\"colorbar\": {\"outlinewidth\": 0, \"ticks\": \"\"}}, \"type\": \"scattergeo\"}], \"scattergl\": [{\"marker\": {\"colorbar\": {\"outlinewidth\": 0, \"ticks\": \"\"}}, \"type\": \"scattergl\"}], \"scattermapbox\": [{\"marker\": {\"colorbar\": {\"outlinewidth\": 0, \"ticks\": \"\"}}, \"type\": \"scattermapbox\"}], \"scatterpolar\": [{\"marker\": {\"colorbar\": {\"outlinewidth\": 0, \"ticks\": \"\"}}, \"type\": \"scatterpolar\"}], \"scatterpolargl\": [{\"marker\": {\"colorbar\": {\"outlinewidth\": 0, \"ticks\": \"\"}}, \"type\": \"scatterpolargl\"}], \"scatterternary\": [{\"marker\": {\"colorbar\": {\"outlinewidth\": 0, \"ticks\": \"\"}}, \"type\": \"scatterternary\"}], \"surface\": [{\"colorbar\": {\"outlinewidth\": 0, \"ticks\": \"\"}, \"colorscale\": [[0.0, \"#0d0887\"], [0.1111111111111111, \"#46039f\"], [0.2222222222222222, \"#7201a8\"], [0.3333333333333333, \"#9c179e\"], [0.4444444444444444, \"#bd3786\"], [0.5555555555555556, \"#d8576b\"], [0.6666666666666666, \"#ed7953\"], [0.7777777777777778, \"#fb9f3a\"], [0.8888888888888888, \"#fdca26\"], [1.0, \"#f0f921\"]], \"type\": \"surface\"}], \"table\": [{\"cells\": {\"fill\": {\"color\": \"#EBF0F8\"}, \"line\": {\"color\": \"white\"}}, \"header\": {\"fill\": {\"color\": \"#C8D4E3\"}, \"line\": {\"color\": \"white\"}}, \"type\": \"table\"}]}, \"layout\": {\"annotationdefaults\": {\"arrowcolor\": \"#2a3f5f\", \"arrowhead\": 0, \"arrowwidth\": 1}, \"coloraxis\": {\"colorbar\": {\"outlinewidth\": 0, \"ticks\": \"\"}}, \"colorscale\": {\"diverging\": [[0, \"#8e0152\"], [0.1, \"#c51b7d\"], [0.2, \"#de77ae\"], [0.3, \"#f1b6da\"], [0.4, \"#fde0ef\"], [0.5, \"#f7f7f7\"], [0.6, \"#e6f5d0\"], [0.7, \"#b8e186\"], [0.8, \"#7fbc41\"], [0.9, \"#4d9221\"], [1, \"#276419\"]], \"sequential\": [[0.0, \"#0d0887\"], [0.1111111111111111, \"#46039f\"], [0.2222222222222222, \"#7201a8\"], [0.3333333333333333, \"#9c179e\"], [0.4444444444444444, \"#bd3786\"], [0.5555555555555556, \"#d8576b\"], [0.6666666666666666, \"#ed7953\"], [0.7777777777777778, \"#fb9f3a\"], [0.8888888888888888, \"#fdca26\"], [1.0, \"#f0f921\"]], \"sequentialminus\": [[0.0, \"#0d0887\"], [0.1111111111111111, \"#46039f\"], [0.2222222222222222, \"#7201a8\"], [0.3333333333333333, \"#9c179e\"], [0.4444444444444444, \"#bd3786\"], [0.5555555555555556, \"#d8576b\"], [0.6666666666666666, \"#ed7953\"], [0.7777777777777778, \"#fb9f3a\"], [0.8888888888888888, \"#fdca26\"], [1.0, \"#f0f921\"]]}, \"colorway\": [\"#636efa\", \"#EF553B\", \"#00cc96\", \"#ab63fa\", \"#FFA15A\", \"#19d3f3\", \"#FF6692\", \"#B6E880\", \"#FF97FF\", \"#FECB52\"], \"font\": {\"color\": \"#2a3f5f\"}, \"geo\": {\"bgcolor\": \"white\", \"lakecolor\": \"white\", \"landcolor\": \"#E5ECF6\", \"showlakes\": true, \"showland\": true, \"subunitcolor\": \"white\"}, \"hoverlabel\": {\"align\": \"left\"}, \"hovermode\": \"closest\", \"mapbox\": {\"style\": \"light\"}, \"paper_bgcolor\": \"white\", \"plot_bgcolor\": \"#E5ECF6\", \"polar\": {\"angularaxis\": {\"gridcolor\": \"white\", \"linecolor\": \"white\", \"ticks\": \"\"}, \"bgcolor\": \"#E5ECF6\", \"radialaxis\": {\"gridcolor\": \"white\", \"linecolor\": \"white\", \"ticks\": \"\"}}, \"scene\": {\"xaxis\": {\"backgroundcolor\": \"#E5ECF6\", \"gridcolor\": \"white\", \"gridwidth\": 2, \"linecolor\": \"white\", \"showbackground\": true, \"ticks\": \"\", \"zerolinecolor\": \"white\"}, \"yaxis\": {\"backgroundcolor\": \"#E5ECF6\", \"gridcolor\": \"white\", \"gridwidth\": 2, \"linecolor\": \"white\", \"showbackground\": true, \"ticks\": \"\", \"zerolinecolor\": \"white\"}, \"zaxis\": {\"backgroundcolor\": \"#E5ECF6\", \"gridcolor\": \"white\", \"gridwidth\": 2, \"linecolor\": \"white\", \"showbackground\": true, \"ticks\": \"\", \"zerolinecolor\": \"white\"}}, \"shapedefaults\": {\"line\": {\"color\": \"#2a3f5f\"}}, \"ternary\": {\"aaxis\": {\"gridcolor\": \"white\", \"linecolor\": \"white\", \"ticks\": \"\"}, \"baxis\": {\"gridcolor\": \"white\", \"linecolor\": \"white\", \"ticks\": \"\"}, \"bgcolor\": \"#E5ECF6\", \"caxis\": {\"gridcolor\": \"white\", \"linecolor\": \"white\", \"ticks\": \"\"}}, \"title\": {\"x\": 0.05}, \"xaxis\": {\"automargin\": true, \"gridcolor\": \"white\", \"linecolor\": \"white\", \"ticks\": \"\", \"title\": {\"standoff\": 15}, \"zerolinecolor\": \"white\", \"zerolinewidth\": 2}, \"yaxis\": {\"automargin\": true, \"gridcolor\": \"white\", \"linecolor\": \"white\", \"ticks\": \"\", \"title\": {\"standoff\": 15}, \"zerolinecolor\": \"white\", \"zerolinewidth\": 2}}}, \"title\": {\"text\": \"Situaci\\u00f3n laboral de la poblaci\\u00f3n femenina mayor a 15 a\\u00f1os con hijos y 3 a\\u00f1os de educaci\\u00f3n\"}, \"xaxis\": {\"anchor\": \"y\", \"domain\": [0.0, 1.0], \"title\": {\"text\": \"Female Population Older 15 With Children\"}}, \"yaxis\": {\"anchor\": \"x\", \"domain\": [0.0, 1.0], \"title\": {\"text\": \"Workforce\"}}},                        {\"responsive\": true}                    ).then(function(){\n",
       "                            \n",
       "var gd = document.getElementById('c5946152-b254-4c72-81e4-f367a48d6803');\n",
       "var x = new MutationObserver(function (mutations, observer) {{\n",
       "        var display = window.getComputedStyle(gd).display;\n",
       "        if (!display || display === 'none') {{\n",
       "            console.log([gd, 'removed!']);\n",
       "            Plotly.purge(gd);\n",
       "            observer.disconnect();\n",
       "        }}\n",
       "}});\n",
       "\n",
       "// Listen for the removal of the full notebook cells\n",
       "var notebookContainer = gd.closest('#notebook-container');\n",
       "if (notebookContainer) {{\n",
       "    x.observe(notebookContainer, {childList: true});\n",
       "}}\n",
       "\n",
       "// Listen for the clearing of the current output cell\n",
       "var outputEl = gd.closest('.output');\n",
       "if (outputEl) {{\n",
       "    x.observe(outputEl, {childList: true});\n",
       "}}\n",
       "\n",
       "                        })                };                });            </script>        </div>"
      ]
     },
     "metadata": {},
     "output_type": "display_data"
    }
   ],
   "source": [
    "child_school('0 a 3 Años de Escolaridad')"
   ]
  }
 ],
 "metadata": {
  "kernelspec": {
   "display_name": "Python 3",
   "language": "python",
   "name": "python3"
  },
  "language_info": {
   "codemirror_mode": {
    "name": "ipython",
    "version": 3
   },
   "file_extension": ".py",
   "mimetype": "text/x-python",
   "name": "python",
   "nbconvert_exporter": "python",
   "pygments_lexer": "ipython3",
   "version": "3.7.4"
  }
 },
 "nbformat": 4,
 "nbformat_minor": 2
}
